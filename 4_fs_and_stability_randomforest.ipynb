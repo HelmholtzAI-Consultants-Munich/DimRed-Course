{
 "cells": [
  {
   "attachments": {},
   "cell_type": "markdown",
   "metadata": {},
   "source": [
    "TODO: try method from the paper: https://hal.science/hal-03483385/document\n",
    "(clustering+PCA) "
   ]
  },
  {
   "attachments": {},
   "cell_type": "markdown",
   "metadata": {},
   "source": [
    "Not sure if we want to enter this at the end and if extra stability tutorial is needed - regularized regression covers important aspects already IMO. "
   ]
  }
 ],
 "metadata": {
  "language_info": {
   "name": "python"
  },
  "orig_nbformat": 4
 },
 "nbformat": 4,
 "nbformat_minor": 2
}
