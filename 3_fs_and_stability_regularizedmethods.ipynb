{
 "cells": [
  {
   "attachments": {},
   "cell_type": "markdown",
   "metadata": {},
   "source": [
    "# Stability of feature selection with regularized methods"
   ]
  },
  {
   "attachments": {},
   "cell_type": "markdown",
   "metadata": {},
   "source": [
    "In this tutorial, we will explore the concept of _'stability'_ of a feature selection algorithm. The term here refers to the robustness of its feature preferences, with respect to data sampling.  We can say that feature has high stability if multiple feature selection repetitions “agree” that this feature is important and low stability when multiple feature selection processes  “disagree” that this feature is important.  \n",
    "\n",
    "Stability is not always easy to achieve, especially in the real world data, but it is extremely important to analyse when selecting features. Having a stable set of features is a proxy for _reproducible research_, especially in the biomedical field (e.g. which genes that algorithm selected are likely to be a data artefact and not a real clinical signal worth pursuing further?)"
   ]
  },
  {
   "attachments": {},
   "cell_type": "markdown",
   "metadata": {},
   "source": [
    "______________________________\n",
    "\n",
    "Let's start! As always, we first load the packages we need:"
   ]
  },
  {
   "attachments": {},
   "cell_type": "markdown",
   "metadata": {},
   "source": [
    "**TBA**: Reference to Noguiera tutorial/paper!"
   ]
  },
  {
   "cell_type": "code",
   "execution_count": 1,
   "metadata": {},
   "outputs": [],
   "source": [
    "import pandas as pd\n",
    "import numpy as np\n",
    "from sklearn.linear_model import LogisticRegression\n",
    "from sklearn.model_selection import GridSearchCV, StratifiedKFold\n",
    "from sklearn.preprocessing import StandardScaler, LabelEncoder\n",
    "from sklearn.model_selection import train_test_split, cross_val_score\n",
    "from sklearn.metrics._scorer import make_scorer\n",
    "from sklearn.metrics import balanced_accuracy_score, accuracy_score\n",
    "import stability as st\n",
    "from utils_ import getBootstrapSample\n",
    "import matplotlib.pyplot as plt\n",
    "from tqdm import tqdm"
   ]
  },
  {
   "attachments": {},
   "cell_type": "markdown",
   "metadata": {},
   "source": [
    "## Data loading"
   ]
  },
  {
   "attachments": {},
   "cell_type": "markdown",
   "metadata": {},
   "source": [
    "Here we just load the data we preprocessed in the data_preprocessing.ipynb. Recall, this is the gene expression dataset with... **TBA**\n",
    "\n",
    "**NOTE** - currently the results show the breast cancer dataset as they are much better to showcase what we want!"
   ]
  },
  {
   "cell_type": "code",
   "execution_count": 2,
   "metadata": {},
   "outputs": [
    {
     "data": {
      "text/html": [
       "<div>\n",
       "<style scoped>\n",
       "    .dataframe tbody tr th:only-of-type {\n",
       "        vertical-align: middle;\n",
       "    }\n",
       "\n",
       "    .dataframe tbody tr th {\n",
       "        vertical-align: top;\n",
       "    }\n",
       "\n",
       "    .dataframe thead th {\n",
       "        text-align: right;\n",
       "    }\n",
       "</style>\n",
       "<table border=\"1\" class=\"dataframe\">\n",
       "  <thead>\n",
       "    <tr style=\"text-align: right;\">\n",
       "      <th></th>\n",
       "      <th>Solyc02g081130.1.1</th>\n",
       "      <th>Solyc12g038200.1.1</th>\n",
       "      <th>Solyc00g097760.1.1</th>\n",
       "      <th>Solyc08g069180.2.1</th>\n",
       "      <th>Solyc01g012570.1.1</th>\n",
       "      <th>Solyc08g076670.2.1</th>\n",
       "      <th>Solyc04g024840.2.1</th>\n",
       "      <th>Solyc09g074310.2.1</th>\n",
       "      <th>Solyc09g005370.1.1</th>\n",
       "      <th>Solyc12g098180.1.1</th>\n",
       "      <th>...</th>\n",
       "      <th>Solyc01g088670.1.1</th>\n",
       "      <th>Solyc06g063380.1.1</th>\n",
       "      <th>Solyc10g050450.1.1</th>\n",
       "      <th>Solyc07g051990.1.1</th>\n",
       "      <th>Solyc02g093490.2.1</th>\n",
       "      <th>Solyc10g007270.2.1</th>\n",
       "      <th>species</th>\n",
       "      <th>position</th>\n",
       "      <th>tissue</th>\n",
       "      <th>root</th>\n",
       "    </tr>\n",
       "  </thead>\n",
       "  <tbody>\n",
       "    <tr>\n",
       "      <th>penn.Sh.floral</th>\n",
       "      <td>1.169216</td>\n",
       "      <td>0.000000</td>\n",
       "      <td>0.0</td>\n",
       "      <td>1.305753</td>\n",
       "      <td>0.0</td>\n",
       "      <td>4.634343</td>\n",
       "      <td>2.860965</td>\n",
       "      <td>3.242561</td>\n",
       "      <td>0.0</td>\n",
       "      <td>0.0</td>\n",
       "      <td>...</td>\n",
       "      <td>2.120579</td>\n",
       "      <td>0.0</td>\n",
       "      <td>0.000000</td>\n",
       "      <td>0.0</td>\n",
       "      <td>5.027894</td>\n",
       "      <td>0.0</td>\n",
       "      <td>penn</td>\n",
       "      <td>Sh</td>\n",
       "      <td>floral</td>\n",
       "      <td>0</td>\n",
       "    </tr>\n",
       "    <tr>\n",
       "      <th>penn.Sh.leaf</th>\n",
       "      <td>0.000000</td>\n",
       "      <td>0.858644</td>\n",
       "      <td>0.0</td>\n",
       "      <td>2.948383</td>\n",
       "      <td>0.0</td>\n",
       "      <td>4.653912</td>\n",
       "      <td>2.241161</td>\n",
       "      <td>2.922573</td>\n",
       "      <td>0.0</td>\n",
       "      <td>0.0</td>\n",
       "      <td>...</td>\n",
       "      <td>1.370140</td>\n",
       "      <td>0.0</td>\n",
       "      <td>2.006256</td>\n",
       "      <td>0.0</td>\n",
       "      <td>5.068390</td>\n",
       "      <td>0.0</td>\n",
       "      <td>penn</td>\n",
       "      <td>Sh</td>\n",
       "      <td>leaf</td>\n",
       "      <td>0</td>\n",
       "    </tr>\n",
       "    <tr>\n",
       "      <th>penn.Sh.root</th>\n",
       "      <td>0.000000</td>\n",
       "      <td>0.000000</td>\n",
       "      <td>0.0</td>\n",
       "      <td>0.469958</td>\n",
       "      <td>0.0</td>\n",
       "      <td>5.798938</td>\n",
       "      <td>3.217704</td>\n",
       "      <td>2.229663</td>\n",
       "      <td>0.0</td>\n",
       "      <td>0.0</td>\n",
       "      <td>...</td>\n",
       "      <td>1.970763</td>\n",
       "      <td>0.0</td>\n",
       "      <td>1.688588</td>\n",
       "      <td>0.0</td>\n",
       "      <td>4.889667</td>\n",
       "      <td>0.0</td>\n",
       "      <td>penn</td>\n",
       "      <td>Sh</td>\n",
       "      <td>root</td>\n",
       "      <td>1</td>\n",
       "    </tr>\n",
       "    <tr>\n",
       "      <th>penn.Sh.sdling</th>\n",
       "      <td>1.813992</td>\n",
       "      <td>0.000000</td>\n",
       "      <td>0.0</td>\n",
       "      <td>2.586147</td>\n",
       "      <td>0.0</td>\n",
       "      <td>4.771861</td>\n",
       "      <td>3.099842</td>\n",
       "      <td>3.452604</td>\n",
       "      <td>0.0</td>\n",
       "      <td>0.0</td>\n",
       "      <td>...</td>\n",
       "      <td>1.982446</td>\n",
       "      <td>0.0</td>\n",
       "      <td>1.651062</td>\n",
       "      <td>0.0</td>\n",
       "      <td>3.105620</td>\n",
       "      <td>0.0</td>\n",
       "      <td>penn</td>\n",
       "      <td>Sh</td>\n",
       "      <td>sdling</td>\n",
       "      <td>0</td>\n",
       "    </tr>\n",
       "    <tr>\n",
       "      <th>penn.Sh.stem</th>\n",
       "      <td>0.000000</td>\n",
       "      <td>0.000000</td>\n",
       "      <td>0.0</td>\n",
       "      <td>1.540887</td>\n",
       "      <td>0.0</td>\n",
       "      <td>4.907770</td>\n",
       "      <td>4.800873</td>\n",
       "      <td>1.973890</td>\n",
       "      <td>0.0</td>\n",
       "      <td>0.0</td>\n",
       "      <td>...</td>\n",
       "      <td>1.452937</td>\n",
       "      <td>0.0</td>\n",
       "      <td>0.000000</td>\n",
       "      <td>0.0</td>\n",
       "      <td>4.993720</td>\n",
       "      <td>0.0</td>\n",
       "      <td>penn</td>\n",
       "      <td>Sh</td>\n",
       "      <td>stem</td>\n",
       "      <td>0</td>\n",
       "    </tr>\n",
       "  </tbody>\n",
       "</table>\n",
       "<p>5 rows × 28302 columns</p>\n",
       "</div>"
      ],
      "text/plain": [
       "                Solyc02g081130.1.1  Solyc12g038200.1.1  Solyc00g097760.1.1  \\\n",
       "penn.Sh.floral            1.169216            0.000000                 0.0   \n",
       "penn.Sh.leaf              0.000000            0.858644                 0.0   \n",
       "penn.Sh.root              0.000000            0.000000                 0.0   \n",
       "penn.Sh.sdling            1.813992            0.000000                 0.0   \n",
       "penn.Sh.stem              0.000000            0.000000                 0.0   \n",
       "\n",
       "                Solyc08g069180.2.1  Solyc01g012570.1.1  Solyc08g076670.2.1  \\\n",
       "penn.Sh.floral            1.305753                 0.0            4.634343   \n",
       "penn.Sh.leaf              2.948383                 0.0            4.653912   \n",
       "penn.Sh.root              0.469958                 0.0            5.798938   \n",
       "penn.Sh.sdling            2.586147                 0.0            4.771861   \n",
       "penn.Sh.stem              1.540887                 0.0            4.907770   \n",
       "\n",
       "                Solyc04g024840.2.1  Solyc09g074310.2.1  Solyc09g005370.1.1  \\\n",
       "penn.Sh.floral            2.860965            3.242561                 0.0   \n",
       "penn.Sh.leaf              2.241161            2.922573                 0.0   \n",
       "penn.Sh.root              3.217704            2.229663                 0.0   \n",
       "penn.Sh.sdling            3.099842            3.452604                 0.0   \n",
       "penn.Sh.stem              4.800873            1.973890                 0.0   \n",
       "\n",
       "                Solyc12g098180.1.1  ...  Solyc01g088670.1.1  \\\n",
       "penn.Sh.floral                 0.0  ...            2.120579   \n",
       "penn.Sh.leaf                   0.0  ...            1.370140   \n",
       "penn.Sh.root                   0.0  ...            1.970763   \n",
       "penn.Sh.sdling                 0.0  ...            1.982446   \n",
       "penn.Sh.stem                   0.0  ...            1.452937   \n",
       "\n",
       "                Solyc06g063380.1.1  Solyc10g050450.1.1  Solyc07g051990.1.1  \\\n",
       "penn.Sh.floral                 0.0            0.000000                 0.0   \n",
       "penn.Sh.leaf                   0.0            2.006256                 0.0   \n",
       "penn.Sh.root                   0.0            1.688588                 0.0   \n",
       "penn.Sh.sdling                 0.0            1.651062                 0.0   \n",
       "penn.Sh.stem                   0.0            0.000000                 0.0   \n",
       "\n",
       "                Solyc02g093490.2.1  Solyc10g007270.2.1  species  position  \\\n",
       "penn.Sh.floral            5.027894                 0.0     penn        Sh   \n",
       "penn.Sh.leaf              5.068390                 0.0     penn        Sh   \n",
       "penn.Sh.root              4.889667                 0.0     penn        Sh   \n",
       "penn.Sh.sdling            3.105620                 0.0     penn        Sh   \n",
       "penn.Sh.stem              4.993720                 0.0     penn        Sh   \n",
       "\n",
       "                tissue  root  \n",
       "penn.Sh.floral  floral     0  \n",
       "penn.Sh.leaf      leaf     0  \n",
       "penn.Sh.root      root     1  \n",
       "penn.Sh.sdling  sdling     0  \n",
       "penn.Sh.stem      stem     0  \n",
       "\n",
       "[5 rows x 28302 columns]"
      ]
     },
     "execution_count": 2,
     "metadata": {},
     "output_type": "execute_result"
    }
   ],
   "source": [
    "data = pd.read_csv(\"./data/tomatos_with_targets.txt\", index_col=0)\n",
    "#data = pd.read_csv(\"./data/breast_cancer.csv\")\n",
    "data.head()"
   ]
  },
  {
   "attachments": {},
   "cell_type": "markdown",
   "metadata": {},
   "source": [
    "## Setup"
   ]
  },
  {
   "attachments": {},
   "cell_type": "markdown",
   "metadata": {},
   "source": [
    "...If tomato dataset: \n",
    "We extracted multiple targets from the dataset and here we want to choose which one we decide to model and we discard the rest."
   ]
  },
  {
   "cell_type": "code",
   "execution_count": 3,
   "metadata": {},
   "outputs": [],
   "source": [
    "# Choose the target\n",
    "target = 'species'\n",
    "#target = 'target'\n",
    "\n",
    "# Targets\n",
    "potential_targets = ['species','position','tissue','root']\n",
    "#potential_targets = []\n",
    "# Remove other potential targets\n",
    "drop = list(set(potential_targets) - set([target]))\n",
    "data_model = data.drop(columns = drop, axis = 1)\n",
    "data_model.head()\n",
    "\n",
    "# Save only feature column names:\n",
    "feature_columns =  data_model.drop(columns=[target], axis=1).columns\n",
    "\n",
    "# Save X and y separately\n",
    "X = data_model.drop(target, axis=1)\n",
    "y = data_model[target]"
   ]
  },
  {
   "attachments": {},
   "cell_type": "markdown",
   "metadata": {},
   "source": [
    "Encode the labels: our labels are categorical and we need to encode them to have integer values. \n",
    "\n",
    "Scale the data: Regression models benefit from scaling the data."
   ]
  },
  {
   "cell_type": "code",
   "execution_count": 4,
   "metadata": {},
   "outputs": [
    {
     "name": "stdout",
     "output_type": "stream",
     "text": [
      "(array(['M82', 'penn'], dtype=object), array([12, 12]))\n",
      "(array([0, 1]), array([12, 12]))\n"
     ]
    }
   ],
   "source": [
    "# Encode labels if it is classification\n",
    "encoder = LabelEncoder()\n",
    "y = encoder.fit_transform(y)\n",
    "print(np.unique(data_model[target], return_counts=True))\n",
    "print(np.unique(y, return_counts=True))\n",
    "#Scale the data\n",
    "scaler = StandardScaler()\n",
    "X_transformed = scaler.fit_transform(X)"
   ]
  },
  {
   "cell_type": "code",
   "execution_count": 32,
   "metadata": {},
   "outputs": [
    {
     "data": {
      "text/plain": [
       "array([[ 0.81415875, -0.35024209, -0.20851441, -0.27482876,  0.        ],\n",
       "       [-1.03764141,  3.68690371, -0.20851441,  1.72916449,  0.        ],\n",
       "       [-1.03764141, -0.35024209, -0.20851441, -1.2944904 ,  0.        ],\n",
       "       [ 1.835353  , -0.35024209, -0.20851441,  1.28724006,  0.        ],\n",
       "       [-1.03764141, -0.35024209, -0.20851441,  0.01203308,  0.        ]])"
      ]
     },
     "execution_count": 32,
     "metadata": {},
     "output_type": "execute_result"
    }
   ],
   "source": [
    "X_transformed[:5,:5]"
   ]
  },
  {
   "attachments": {},
   "cell_type": "markdown",
   "metadata": {},
   "source": [
    "## Modeling without taking stability into account\n",
    "Elastic net regression on the full dataset - How it is usually done? Usually, the lambda maximizing the accuracy is taken,..."
   ]
  },
  {
   "cell_type": "code",
   "execution_count": 5,
   "metadata": {},
   "outputs": [],
   "source": [
    "# Just for now..can't get elastic net to run w/o the convergence error \n",
    "import warnings\n",
    "warnings.filterwarnings('ignore')"
   ]
  },
  {
   "attachments": {},
   "cell_type": "markdown",
   "metadata": {},
   "source": [
    "Define the model:"
   ]
  },
  {
   "cell_type": "code",
   "execution_count": 6,
   "metadata": {},
   "outputs": [],
   "source": [
    "# model = LogisticRegression(penalty='l1', solver='liblinear',max_iter=300)\n",
    "# model_name = 'lasso'\n",
    "model = LogisticRegression(penalty = 'elasticnet', solver = 'saga', l1_ratio = 0.5, max_iter=2000)\n",
    "model_name = 'elasticnet'"
   ]
  },
  {
   "attachments": {},
   "cell_type": "markdown",
   "metadata": {},
   "source": [
    "Define the grid for the hyperparameter search:"
   ]
  },
  {
   "cell_type": "code",
   "execution_count": 7,
   "metadata": {},
   "outputs": [
    {
     "data": {
      "text/plain": [
       "{'C': array([0.01      , 0.01668101, 0.02782559, 0.04641589, 0.07742637,\n",
       "        0.12915497, 0.21544347, 0.35938137, 0.59948425, 1.        ])}"
      ]
     },
     "execution_count": 7,
     "metadata": {},
     "output_type": "execute_result"
    }
   ],
   "source": [
    "num_lambdas = 10 # We will test 10 parameters\n",
    "lambdas = np.linspace(-2,0,num_lambdas).astype(float)\n",
    "lambdas=np.power(10,lambdas)\n",
    "hyper_grid = {'C': lambdas}\n",
    "hyper_grid\n"
   ]
  },
  {
   "attachments": {},
   "cell_type": "markdown",
   "metadata": {},
   "source": [
    "Find the optimal parameter for Lasso:"
   ]
  },
  {
   "cell_type": "code",
   "execution_count": 8,
   "metadata": {},
   "outputs": [
    {
     "name": "stdout",
     "output_type": "stream",
     "text": [
      "Fitting 4 folds for each of 10 candidates, totalling 40 fits\n"
     ]
    },
    {
     "data": {
      "text/html": [
       "<style>#sk-container-id-1 {color: black;background-color: white;}#sk-container-id-1 pre{padding: 0;}#sk-container-id-1 div.sk-toggleable {background-color: white;}#sk-container-id-1 label.sk-toggleable__label {cursor: pointer;display: block;width: 100%;margin-bottom: 0;padding: 0.3em;box-sizing: border-box;text-align: center;}#sk-container-id-1 label.sk-toggleable__label-arrow:before {content: \"▸\";float: left;margin-right: 0.25em;color: #696969;}#sk-container-id-1 label.sk-toggleable__label-arrow:hover:before {color: black;}#sk-container-id-1 div.sk-estimator:hover label.sk-toggleable__label-arrow:before {color: black;}#sk-container-id-1 div.sk-toggleable__content {max-height: 0;max-width: 0;overflow: hidden;text-align: left;background-color: #f0f8ff;}#sk-container-id-1 div.sk-toggleable__content pre {margin: 0.2em;color: black;border-radius: 0.25em;background-color: #f0f8ff;}#sk-container-id-1 input.sk-toggleable__control:checked~div.sk-toggleable__content {max-height: 200px;max-width: 100%;overflow: auto;}#sk-container-id-1 input.sk-toggleable__control:checked~label.sk-toggleable__label-arrow:before {content: \"▾\";}#sk-container-id-1 div.sk-estimator input.sk-toggleable__control:checked~label.sk-toggleable__label {background-color: #d4ebff;}#sk-container-id-1 div.sk-label input.sk-toggleable__control:checked~label.sk-toggleable__label {background-color: #d4ebff;}#sk-container-id-1 input.sk-hidden--visually {border: 0;clip: rect(1px 1px 1px 1px);clip: rect(1px, 1px, 1px, 1px);height: 1px;margin: -1px;overflow: hidden;padding: 0;position: absolute;width: 1px;}#sk-container-id-1 div.sk-estimator {font-family: monospace;background-color: #f0f8ff;border: 1px dotted black;border-radius: 0.25em;box-sizing: border-box;margin-bottom: 0.5em;}#sk-container-id-1 div.sk-estimator:hover {background-color: #d4ebff;}#sk-container-id-1 div.sk-parallel-item::after {content: \"\";width: 100%;border-bottom: 1px solid gray;flex-grow: 1;}#sk-container-id-1 div.sk-label:hover label.sk-toggleable__label {background-color: #d4ebff;}#sk-container-id-1 div.sk-serial::before {content: \"\";position: absolute;border-left: 1px solid gray;box-sizing: border-box;top: 0;bottom: 0;left: 50%;z-index: 0;}#sk-container-id-1 div.sk-serial {display: flex;flex-direction: column;align-items: center;background-color: white;padding-right: 0.2em;padding-left: 0.2em;position: relative;}#sk-container-id-1 div.sk-item {position: relative;z-index: 1;}#sk-container-id-1 div.sk-parallel {display: flex;align-items: stretch;justify-content: center;background-color: white;position: relative;}#sk-container-id-1 div.sk-item::before, #sk-container-id-1 div.sk-parallel-item::before {content: \"\";position: absolute;border-left: 1px solid gray;box-sizing: border-box;top: 0;bottom: 0;left: 50%;z-index: -1;}#sk-container-id-1 div.sk-parallel-item {display: flex;flex-direction: column;z-index: 1;position: relative;background-color: white;}#sk-container-id-1 div.sk-parallel-item:first-child::after {align-self: flex-end;width: 50%;}#sk-container-id-1 div.sk-parallel-item:last-child::after {align-self: flex-start;width: 50%;}#sk-container-id-1 div.sk-parallel-item:only-child::after {width: 0;}#sk-container-id-1 div.sk-dashed-wrapped {border: 1px dashed gray;margin: 0 0.4em 0.5em 0.4em;box-sizing: border-box;padding-bottom: 0.4em;background-color: white;}#sk-container-id-1 div.sk-label label {font-family: monospace;font-weight: bold;display: inline-block;line-height: 1.2em;}#sk-container-id-1 div.sk-label-container {text-align: center;}#sk-container-id-1 div.sk-container {/* jupyter's `normalize.less` sets `[hidden] { display: none; }` but bootstrap.min.css set `[hidden] { display: none !important; }` so we also need the `!important` here to be able to override the default hidden behavior on the sphinx rendered scikit-learn.org. See: https://github.com/scikit-learn/scikit-learn/issues/21755 */display: inline-block !important;position: relative;}#sk-container-id-1 div.sk-text-repr-fallback {display: none;}</style><div id=\"sk-container-id-1\" class=\"sk-top-container\"><div class=\"sk-text-repr-fallback\"><pre>GridSearchCV(cv=StratifiedKFold(n_splits=4, random_state=None, shuffle=False),\n",
       "             estimator=LogisticRegression(l1_ratio=0.5, max_iter=2000,\n",
       "                                          penalty=&#x27;elasticnet&#x27;, solver=&#x27;saga&#x27;),\n",
       "             param_grid={&#x27;C&#x27;: array([0.01      , 0.01668101, 0.02782559, 0.04641589, 0.07742637,\n",
       "       0.12915497, 0.21544347, 0.35938137, 0.59948425, 1.        ])},\n",
       "             scoring=&#x27;accuracy&#x27;, verbose=1)</pre><b>In a Jupyter environment, please rerun this cell to show the HTML representation or trust the notebook. <br />On GitHub, the HTML representation is unable to render, please try loading this page with nbviewer.org.</b></div><div class=\"sk-container\" hidden><div class=\"sk-item sk-dashed-wrapped\"><div class=\"sk-label-container\"><div class=\"sk-label sk-toggleable\"><input class=\"sk-toggleable__control sk-hidden--visually\" id=\"sk-estimator-id-1\" type=\"checkbox\" ><label for=\"sk-estimator-id-1\" class=\"sk-toggleable__label sk-toggleable__label-arrow\">GridSearchCV</label><div class=\"sk-toggleable__content\"><pre>GridSearchCV(cv=StratifiedKFold(n_splits=4, random_state=None, shuffle=False),\n",
       "             estimator=LogisticRegression(l1_ratio=0.5, max_iter=2000,\n",
       "                                          penalty=&#x27;elasticnet&#x27;, solver=&#x27;saga&#x27;),\n",
       "             param_grid={&#x27;C&#x27;: array([0.01      , 0.01668101, 0.02782559, 0.04641589, 0.07742637,\n",
       "       0.12915497, 0.21544347, 0.35938137, 0.59948425, 1.        ])},\n",
       "             scoring=&#x27;accuracy&#x27;, verbose=1)</pre></div></div></div><div class=\"sk-parallel\"><div class=\"sk-parallel-item\"><div class=\"sk-item\"><div class=\"sk-label-container\"><div class=\"sk-label sk-toggleable\"><input class=\"sk-toggleable__control sk-hidden--visually\" id=\"sk-estimator-id-2\" type=\"checkbox\" ><label for=\"sk-estimator-id-2\" class=\"sk-toggleable__label sk-toggleable__label-arrow\">estimator: LogisticRegression</label><div class=\"sk-toggleable__content\"><pre>LogisticRegression(l1_ratio=0.5, max_iter=2000, penalty=&#x27;elasticnet&#x27;,\n",
       "                   solver=&#x27;saga&#x27;)</pre></div></div></div><div class=\"sk-serial\"><div class=\"sk-item\"><div class=\"sk-estimator sk-toggleable\"><input class=\"sk-toggleable__control sk-hidden--visually\" id=\"sk-estimator-id-3\" type=\"checkbox\" ><label for=\"sk-estimator-id-3\" class=\"sk-toggleable__label sk-toggleable__label-arrow\">LogisticRegression</label><div class=\"sk-toggleable__content\"><pre>LogisticRegression(l1_ratio=0.5, max_iter=2000, penalty=&#x27;elasticnet&#x27;,\n",
       "                   solver=&#x27;saga&#x27;)</pre></div></div></div></div></div></div></div></div></div></div>"
      ],
      "text/plain": [
       "GridSearchCV(cv=StratifiedKFold(n_splits=4, random_state=None, shuffle=False),\n",
       "             estimator=LogisticRegression(l1_ratio=0.5, max_iter=2000,\n",
       "                                          penalty='elasticnet', solver='saga'),\n",
       "             param_grid={'C': array([0.01      , 0.01668101, 0.02782559, 0.04641589, 0.07742637,\n",
       "       0.12915497, 0.21544347, 0.35938137, 0.59948425, 1.        ])},\n",
       "             scoring='accuracy', verbose=1)"
      ]
     },
     "execution_count": 8,
     "metadata": {},
     "output_type": "execute_result"
    }
   ],
   "source": [
    "# Define a grid search with 10-fold CV and fit \n",
    "gridsearch_classifier = GridSearchCV(model, hyper_grid, cv=StratifiedKFold(n_splits=4), verbose=1, scoring='accuracy')\n",
    "gridsearch_classifier.fit(X_transformed, y)"
   ]
  },
  {
   "cell_type": "code",
   "execution_count": 9,
   "metadata": {},
   "outputs": [
    {
     "name": "stdout",
     "output_type": "stream",
     "text": [
      "[{'C': 0.01}, {'C': 0.016681005372000592}, {'C': 0.027825594022071243}, {'C': 0.046415888336127774}, {'C': 0.0774263682681127}, {'C': 0.1291549665014884}, {'C': 0.21544346900318834}, {'C': 0.3593813663804626}, {'C': 0.5994842503189409}, {'C': 1.0}]\n",
      "Average accuracy: 80.0%\n",
      "Chosen parameter {'C': 0.0774263682681127}\n"
     ]
    }
   ],
   "source": [
    "print(gridsearch_classifier.cv_results_['params'])\n",
    "print(f\"Average accuracy: {round(np.mean(gridsearch_classifier.cv_results_['mean_test_score'])*100,2)}%\")\n",
    "\n",
    "C = gridsearch_classifier.best_params_\n",
    "print(f\"Chosen parameter {C}\")"
   ]
  },
  {
   "attachments": {},
   "cell_type": "markdown",
   "metadata": {},
   "source": [
    "## Stability analysis\n",
    "### Optimizing Stability and Accuracy of Regularized Methods"
   ]
  },
  {
   "attachments": {},
   "cell_type": "markdown",
   "metadata": {},
   "source": [
    "TODO - write how the stability measure is defined, reference the paper, write properties the stability metric should have"
   ]
  },
  {
   "cell_type": "code",
   "execution_count": 10,
   "metadata": {},
   "outputs": [],
   "source": [
    "M = 10\n",
    "d = X.shape[1]\n",
    "Z=np.zeros((num_lambdas,M,d),dtype=np.int8)\n",
    "errors=np.zeros((M,num_lambdas))\n",
    "stabilities=np.zeros(num_lambdas)\n",
    "errStab=np.zeros(num_lambdas)\n",
    "numFeatSelected=np.zeros((M,num_lambdas),dtype=np.int32)"
   ]
  },
  {
   "attachments": {},
   "cell_type": "markdown",
   "metadata": {},
   "source": [
    "We apply L1-logistic regression with different regularizing parameters lambda on M bootstrap samples of the data using the scikit-learn package. We report the stability as given in [1] and the average out-of-bag (OOB) error over the M repeats.\n",
    "\n"
   ]
  },
  {
   "cell_type": "code",
   "execution_count": 11,
   "metadata": {},
   "outputs": [
    {
     "name": "stderr",
     "output_type": "stream",
     "text": [
      "100%|██████████| 10/10 [09:33<00:00, 57.39s/it]\n"
     ]
    }
   ],
   "source": [
    "## for each repeat\n",
    "for i in tqdm(range(M)):\n",
    "    newData=getBootstrapSample(np.asarray(X_transformed),np.asarray(y), random_state=(i+1)*10+1234) ## we get a bootstrap sample\n",
    "    for k in range(num_lambdas):\n",
    "        logistic = LogisticRegression(penalty = 'elasticnet', solver = 'saga', l1_ratio = 0.5, C=lambdas[k], max_iter=2000, random_state=(i+1)*10+12345)\n",
    "        logistic.fit(newData['bootData'],newData['bootLabels'])  ## we fit the coefficients \n",
    "        Z[k,i,:]=sum(logistic.coef_!=0)\n",
    "        numFeatSelected[i,k]=sum(sum(logistic.coef_!=0))\n",
    "        predLabels=logistic.predict(newData['OOBData'])\n",
    "        errors[i,k]=1-accuracy_score(newData['OOBLabels'], predLabels)\n",
    "meanError=np.mean(errors,0)\n",
    "#errCI=norm.ppf(1-alpha/2)*(np.std(errors,0))/math.sqrt(M)"
   ]
  },
  {
   "attachments": {},
   "cell_type": "markdown",
   "metadata": {},
   "source": [
    "To better understand what is saved in each object, let's check their size and how the results look like:"
   ]
  },
  {
   "cell_type": "code",
   "execution_count": 12,
   "metadata": {},
   "outputs": [
    {
     "name": "stdout",
     "output_type": "stream",
     "text": [
      "Errors shape: (10, 10)\n",
      "numFeatSelected shape: (10, 10)\n",
      "Z shape: (10, 10, 28298)\n",
      "For lambda = 0.01, results look like follows:\n"
     ]
    },
    {
     "data": {
      "text/html": [
       "<div>\n",
       "<style scoped>\n",
       "    .dataframe tbody tr th:only-of-type {\n",
       "        vertical-align: middle;\n",
       "    }\n",
       "\n",
       "    .dataframe tbody tr th {\n",
       "        vertical-align: top;\n",
       "    }\n",
       "\n",
       "    .dataframe thead th {\n",
       "        text-align: right;\n",
       "    }\n",
       "</style>\n",
       "<table border=\"1\" class=\"dataframe\">\n",
       "  <thead>\n",
       "    <tr style=\"text-align: right;\">\n",
       "      <th></th>\n",
       "      <th>Solyc02g081130.1.1</th>\n",
       "      <th>Solyc12g038200.1.1</th>\n",
       "      <th>Solyc00g097760.1.1</th>\n",
       "      <th>Solyc08g069180.2.1</th>\n",
       "      <th>Solyc01g012570.1.1</th>\n",
       "      <th>Solyc08g076670.2.1</th>\n",
       "      <th>Solyc04g024840.2.1</th>\n",
       "      <th>Solyc09g074310.2.1</th>\n",
       "      <th>Solyc09g005370.1.1</th>\n",
       "      <th>Solyc12g098180.1.1</th>\n",
       "      <th>...</th>\n",
       "      <th>Solyc02g094560.2.1</th>\n",
       "      <th>Solyc09g091640.1.1</th>\n",
       "      <th>Solyc01g099290.2.1</th>\n",
       "      <th>Solyc07g008430.1.1</th>\n",
       "      <th>Solyc01g088670.1.1</th>\n",
       "      <th>Solyc06g063380.1.1</th>\n",
       "      <th>Solyc10g050450.1.1</th>\n",
       "      <th>Solyc07g051990.1.1</th>\n",
       "      <th>Solyc02g093490.2.1</th>\n",
       "      <th>Solyc10g007270.2.1</th>\n",
       "    </tr>\n",
       "  </thead>\n",
       "  <tbody>\n",
       "    <tr>\n",
       "      <th>0</th>\n",
       "      <td>0</td>\n",
       "      <td>0</td>\n",
       "      <td>0</td>\n",
       "      <td>0</td>\n",
       "      <td>0</td>\n",
       "      <td>0</td>\n",
       "      <td>0</td>\n",
       "      <td>0</td>\n",
       "      <td>0</td>\n",
       "      <td>0</td>\n",
       "      <td>...</td>\n",
       "      <td>0</td>\n",
       "      <td>0</td>\n",
       "      <td>0</td>\n",
       "      <td>0</td>\n",
       "      <td>0</td>\n",
       "      <td>0</td>\n",
       "      <td>0</td>\n",
       "      <td>0</td>\n",
       "      <td>0</td>\n",
       "      <td>0</td>\n",
       "    </tr>\n",
       "    <tr>\n",
       "      <th>1</th>\n",
       "      <td>0</td>\n",
       "      <td>0</td>\n",
       "      <td>0</td>\n",
       "      <td>0</td>\n",
       "      <td>0</td>\n",
       "      <td>0</td>\n",
       "      <td>0</td>\n",
       "      <td>0</td>\n",
       "      <td>0</td>\n",
       "      <td>0</td>\n",
       "      <td>...</td>\n",
       "      <td>0</td>\n",
       "      <td>0</td>\n",
       "      <td>0</td>\n",
       "      <td>0</td>\n",
       "      <td>0</td>\n",
       "      <td>0</td>\n",
       "      <td>0</td>\n",
       "      <td>0</td>\n",
       "      <td>0</td>\n",
       "      <td>0</td>\n",
       "    </tr>\n",
       "    <tr>\n",
       "      <th>2</th>\n",
       "      <td>0</td>\n",
       "      <td>0</td>\n",
       "      <td>0</td>\n",
       "      <td>0</td>\n",
       "      <td>0</td>\n",
       "      <td>0</td>\n",
       "      <td>0</td>\n",
       "      <td>0</td>\n",
       "      <td>0</td>\n",
       "      <td>0</td>\n",
       "      <td>...</td>\n",
       "      <td>0</td>\n",
       "      <td>0</td>\n",
       "      <td>0</td>\n",
       "      <td>0</td>\n",
       "      <td>0</td>\n",
       "      <td>0</td>\n",
       "      <td>0</td>\n",
       "      <td>0</td>\n",
       "      <td>0</td>\n",
       "      <td>0</td>\n",
       "    </tr>\n",
       "    <tr>\n",
       "      <th>3</th>\n",
       "      <td>0</td>\n",
       "      <td>0</td>\n",
       "      <td>0</td>\n",
       "      <td>0</td>\n",
       "      <td>0</td>\n",
       "      <td>0</td>\n",
       "      <td>0</td>\n",
       "      <td>0</td>\n",
       "      <td>0</td>\n",
       "      <td>0</td>\n",
       "      <td>...</td>\n",
       "      <td>0</td>\n",
       "      <td>0</td>\n",
       "      <td>0</td>\n",
       "      <td>0</td>\n",
       "      <td>0</td>\n",
       "      <td>0</td>\n",
       "      <td>0</td>\n",
       "      <td>0</td>\n",
       "      <td>0</td>\n",
       "      <td>0</td>\n",
       "    </tr>\n",
       "    <tr>\n",
       "      <th>4</th>\n",
       "      <td>0</td>\n",
       "      <td>0</td>\n",
       "      <td>0</td>\n",
       "      <td>0</td>\n",
       "      <td>0</td>\n",
       "      <td>0</td>\n",
       "      <td>0</td>\n",
       "      <td>0</td>\n",
       "      <td>0</td>\n",
       "      <td>0</td>\n",
       "      <td>...</td>\n",
       "      <td>0</td>\n",
       "      <td>0</td>\n",
       "      <td>0</td>\n",
       "      <td>0</td>\n",
       "      <td>0</td>\n",
       "      <td>0</td>\n",
       "      <td>0</td>\n",
       "      <td>0</td>\n",
       "      <td>0</td>\n",
       "      <td>0</td>\n",
       "    </tr>\n",
       "  </tbody>\n",
       "</table>\n",
       "<p>5 rows × 28298 columns</p>\n",
       "</div>"
      ],
      "text/plain": [
       "   Solyc02g081130.1.1  Solyc12g038200.1.1  Solyc00g097760.1.1  \\\n",
       "0                   0                   0                   0   \n",
       "1                   0                   0                   0   \n",
       "2                   0                   0                   0   \n",
       "3                   0                   0                   0   \n",
       "4                   0                   0                   0   \n",
       "\n",
       "   Solyc08g069180.2.1  Solyc01g012570.1.1  Solyc08g076670.2.1  \\\n",
       "0                   0                   0                   0   \n",
       "1                   0                   0                   0   \n",
       "2                   0                   0                   0   \n",
       "3                   0                   0                   0   \n",
       "4                   0                   0                   0   \n",
       "\n",
       "   Solyc04g024840.2.1  Solyc09g074310.2.1  Solyc09g005370.1.1  \\\n",
       "0                   0                   0                   0   \n",
       "1                   0                   0                   0   \n",
       "2                   0                   0                   0   \n",
       "3                   0                   0                   0   \n",
       "4                   0                   0                   0   \n",
       "\n",
       "   Solyc12g098180.1.1  ...  Solyc02g094560.2.1  Solyc09g091640.1.1  \\\n",
       "0                   0  ...                   0                   0   \n",
       "1                   0  ...                   0                   0   \n",
       "2                   0  ...                   0                   0   \n",
       "3                   0  ...                   0                   0   \n",
       "4                   0  ...                   0                   0   \n",
       "\n",
       "   Solyc01g099290.2.1  Solyc07g008430.1.1  Solyc01g088670.1.1  \\\n",
       "0                   0                   0                   0   \n",
       "1                   0                   0                   0   \n",
       "2                   0                   0                   0   \n",
       "3                   0                   0                   0   \n",
       "4                   0                   0                   0   \n",
       "\n",
       "   Solyc06g063380.1.1  Solyc10g050450.1.1  Solyc07g051990.1.1  \\\n",
       "0                   0                   0                   0   \n",
       "1                   0                   0                   0   \n",
       "2                   0                   0                   0   \n",
       "3                   0                   0                   0   \n",
       "4                   0                   0                   0   \n",
       "\n",
       "   Solyc02g093490.2.1  Solyc10g007270.2.1  \n",
       "0                   0                   0  \n",
       "1                   0                   0  \n",
       "2                   0                   0  \n",
       "3                   0                   0  \n",
       "4                   0                   0  \n",
       "\n",
       "[5 rows x 28298 columns]"
      ]
     },
     "execution_count": 12,
     "metadata": {},
     "output_type": "execute_result"
    }
   ],
   "source": [
    "print(f'Errors shape: {errors.shape}')\n",
    "print(f'numFeatSelected shape: {numFeatSelected.shape}')\n",
    "print(f'Z shape: {Z.shape}')\n",
    "\n",
    "Z_dict = {}\n",
    "for i in range(Z.shape[0]):\n",
    "    Z_dict[lambdas[i]] = pd.DataFrame(Z[i, :,:], columns=X.columns)\n",
    "\n",
    "index = 0\n",
    "print(f'For lambda = {lambdas[index]}, results look like follows:')\n",
    "Z_dict[lambdas[index]].head()"
   ]
  },
  {
   "attachments": {},
   "cell_type": "markdown",
   "metadata": {},
   "source": [
    "TODO - explain a bit the result (e.g. feature 1 was chosen in iterations 1,2,3, but not in 4 etc)"
   ]
  },
  {
   "attachments": {},
   "cell_type": "markdown",
   "metadata": {},
   "source": [
    "Now let's see how does lambda affect the number of features selected:"
   ]
  },
  {
   "cell_type": "code",
   "execution_count": 13,
   "metadata": {},
   "outputs": [
    {
     "data": {
      "image/png": "[encoded data removed]",
      "text/plain": [
       "<Figure size 640x480 with 1 Axes>"
      ]
     },
     "metadata": {},
     "output_type": "display_data"
    }
   ],
   "source": [
    "plt.close()\n",
    "plt.figure()\n",
    "plt.plot(lambdas,np.mean(numFeatSelected,0),marker='o', linestyle='--')\n",
    "plt.xlabel('lambda')\n",
    "plt.ylabel('num. Features selected')\n",
    "plt.title('Number of Features selected against Lambda')\n",
    "plt.show()"
   ]
  },
  {
   "attachments": {},
   "cell_type": "markdown",
   "metadata": {},
   "source": [
    "As we expect, the number of features selected decreases as we increase the regularization.\n",
    "Let us now plot the average OOB error against lambda"
   ]
  },
  {
   "cell_type": "code",
   "execution_count": 14,
   "metadata": {},
   "outputs": [
    {
     "data": {
      "image/png": "[encoded data removed]",
      "text/plain": [
       "<Figure size 640x480 with 1 Axes>"
      ]
     },
     "metadata": {},
     "output_type": "display_data"
    }
   ],
   "source": [
    "plt.close()\n",
    "plt.figure()\n",
    "plt.plot(lambdas,np.mean(errors,0),marker='o', linestyle='--')\n",
    "plt.xlabel('lambda')\n",
    "plt.ylabel('Av. error')\n",
    "plt.title('Average OOB Error')\n",
    "plt.show()"
   ]
  },
  {
   "cell_type": "code",
   "execution_count": 15,
   "metadata": {},
   "outputs": [],
   "source": [
    "for k in range(num_lambdas):\n",
    "    res=st.confidenceIntervals(Z[k,:,:],alpha=0.05) ## we get the confidence intervals using the stability package\n",
    "    stabilities[k]=res['stability']\n",
    "    errStab[k]=stabilities[k]-res['lower']"
   ]
  },
  {
   "cell_type": "code",
   "execution_count": 16,
   "metadata": {},
   "outputs": [
    {
     "data": {
      "image/png": "[encoded data removed]",
      "text/plain": [
       "<Figure size 640x480 with 1 Axes>"
      ]
     },
     "metadata": {},
     "output_type": "display_data"
    }
   ],
   "source": [
    "plt.close()\n",
    "plt.figure()\n",
    "plt.errorbar(lambdas,stabilities,yerr=errStab,marker='o', linestyle='--')\n",
    "plt.xlabel('lambda')\n",
    "plt.ylabel('Stability')\n",
    "plt.title('Stability against Lambda')\n",
    "plt.show()"
   ]
  },
  {
   "cell_type": "code",
   "execution_count": 17,
   "metadata": {},
   "outputs": [
    {
     "name": "stdout",
     "output_type": "stream",
     "text": [
      "--- lambda = 1.0 ---\n",
      "Stability is maximal = 61.64%. \n",
      "Average Number of features selected for this lambda across 10 iterations is 177.8. \n",
      "Average OOB error is 0.21428571428571427\n",
      "\n",
      "\n",
      "--- lambda (grid search) = 0.0774263682681127 ---\n",
      "Stability = 23.98%. \n",
      "Average Number of features selected for this lambda across 10 iterations is 189.1. \n",
      "Average OOB error is 0.16666666666666669\n"
     ]
    }
   ],
   "source": [
    "best_stability_index = np.nanargmax(stabilities)\n",
    "gridsearch_index = np.where(lambdas == gridsearch_classifier.best_params_['C'])[0][0]\n",
    "\n",
    "print(f\"--- lambda = {lambdas[best_stability_index]} ---\")\n",
    "print(f'Stability is maximal = {round(stabilities[best_stability_index]*100,2)}%. \\nAverage Number of features selected for this lambda across {M} iterations is {np.mean(numFeatSelected[best_stability_index])}. \\nAverage OOB error is {np.mean(errors[best_stability_index])}')\n",
    "print('\\n')\n",
    "print(f\"--- lambda (grid search) = {gridsearch_classifier.best_params_['C']} ---\")\n",
    "print(f'Stability = {round(stabilities[gridsearch_index]*100,2)}%. \\nAverage Number of features selected for this lambda across {M} iterations is {np.mean(numFeatSelected[gridsearch_index])}. \\nAverage OOB error is {np.mean(errors[gridsearch_index])}')"
   ]
  },
  {
   "attachments": {},
   "cell_type": "markdown",
   "metadata": {},
   "source": [
    "As we can see from these figures, the value of the regularizing parameter that yields the maximal stability (out of the 10 regularizing parameters chosen) is not the one yielding the minimum error. Here, a trade-off between error and stability needs to chosen.\n",
    "Nevertheless, we can see that making a small sacrife in terms of accuracy can largely improve stability."
   ]
  },
  {
   "attachments": {},
   "cell_type": "markdown",
   "metadata": {},
   "source": [
    "### Feature occurrence as a measure of stability\n",
    "\n",
    "If you ran your feature selection algorithm multiple times with different (bootstrapped) samples, you could additionally derive some other statistics as a measure for the robustnes of the algorithm. For example, for each feature, we can check how many times it was chosen across iterations."
   ]
  },
  {
   "attachments": {},
   "cell_type": "markdown",
   "metadata": {},
   "source": [
    "We will showcase this for both of the lambdas - one chosen via grid search (maximizing accuracy) and one chosen as a trade-off between stability and accuracy. We will use the same matrix Z formed during the iterations."
   ]
  },
  {
   "cell_type": "code",
   "execution_count": 18,
   "metadata": {},
   "outputs": [],
   "source": [
    "feature_count_max_stability = Z_dict[lambdas[best_stability_index]]\n",
    "feature_count_max_accuracy = Z_dict[lambdas[gridsearch_index]]"
   ]
  },
  {
   "cell_type": "code",
   "execution_count": 24,
   "metadata": {},
   "outputs": [
    {
     "data": {
      "text/html": [
       "<div>\n",
       "<style scoped>\n",
       "    .dataframe tbody tr th:only-of-type {\n",
       "        vertical-align: middle;\n",
       "    }\n",
       "\n",
       "    .dataframe tbody tr th {\n",
       "        vertical-align: top;\n",
       "    }\n",
       "\n",
       "    .dataframe thead th {\n",
       "        text-align: right;\n",
       "    }\n",
       "</style>\n",
       "<table border=\"1\" class=\"dataframe\">\n",
       "  <thead>\n",
       "    <tr style=\"text-align: right;\">\n",
       "      <th></th>\n",
       "      <th>feature</th>\n",
       "      <th>count</th>\n",
       "    </tr>\n",
       "  </thead>\n",
       "  <tbody>\n",
       "    <tr>\n",
       "      <th>7234</th>\n",
       "      <td>Solyc05g007540.1.1</td>\n",
       "      <td>10</td>\n",
       "    </tr>\n",
       "    <tr>\n",
       "      <th>17011</th>\n",
       "      <td>Solyc04g082360.1.1</td>\n",
       "      <td>10</td>\n",
       "    </tr>\n",
       "    <tr>\n",
       "      <th>20581</th>\n",
       "      <td>Solyc04g024960.1.1</td>\n",
       "      <td>10</td>\n",
       "    </tr>\n",
       "    <tr>\n",
       "      <th>10109</th>\n",
       "      <td>Solyc00g017540.1.1</td>\n",
       "      <td>10</td>\n",
       "    </tr>\n",
       "    <tr>\n",
       "      <th>19956</th>\n",
       "      <td>Solyc07g017690.2.1</td>\n",
       "      <td>10</td>\n",
       "    </tr>\n",
       "    <tr>\n",
       "      <th>...</th>\n",
       "      <td>...</td>\n",
       "      <td>...</td>\n",
       "    </tr>\n",
       "    <tr>\n",
       "      <th>9697</th>\n",
       "      <td>Solyc03g083040.1.1</td>\n",
       "      <td>0</td>\n",
       "    </tr>\n",
       "    <tr>\n",
       "      <th>9696</th>\n",
       "      <td>Solyc01g080380.2.1</td>\n",
       "      <td>0</td>\n",
       "    </tr>\n",
       "    <tr>\n",
       "      <th>9695</th>\n",
       "      <td>Solyc08g036640.2.1</td>\n",
       "      <td>0</td>\n",
       "    </tr>\n",
       "    <tr>\n",
       "      <th>9694</th>\n",
       "      <td>Solyc02g086190.1.1</td>\n",
       "      <td>0</td>\n",
       "    </tr>\n",
       "    <tr>\n",
       "      <th>28297</th>\n",
       "      <td>Solyc10g007270.2.1</td>\n",
       "      <td>0</td>\n",
       "    </tr>\n",
       "  </tbody>\n",
       "</table>\n",
       "<p>28298 rows × 2 columns</p>\n",
       "</div>"
      ],
      "text/plain": [
       "                  feature  count\n",
       "7234   Solyc05g007540.1.1     10\n",
       "17011  Solyc04g082360.1.1     10\n",
       "20581  Solyc04g024960.1.1     10\n",
       "10109  Solyc00g017540.1.1     10\n",
       "19956  Solyc07g017690.2.1     10\n",
       "...                   ...    ...\n",
       "9697   Solyc03g083040.1.1      0\n",
       "9696   Solyc01g080380.2.1      0\n",
       "9695   Solyc08g036640.2.1      0\n",
       "9694   Solyc02g086190.1.1      0\n",
       "28297  Solyc10g007270.2.1      0\n",
       "\n",
       "[28298 rows x 2 columns]"
      ]
     },
     "execution_count": 24,
     "metadata": {},
     "output_type": "execute_result"
    }
   ],
   "source": [
    "chosen_per_feature_stability = pd.DataFrame(feature_count_max_stability.sum(axis=0)).reset_index()\n",
    "chosen_per_feature_stability.columns = ['feature', 'count']\n",
    "chosen_per_feature_stability.sort_values('count',inplace=True, ascending=False)\n",
    "chosen_per_feature_stability"
   ]
  },
  {
   "cell_type": "code",
   "execution_count": 21,
   "metadata": {},
   "outputs": [
    {
     "data": {
      "text/plain": [
       "<Axes: title={'center': 'Number of times a feature was chosen across iterations.\\nLambda chosen with maximal stability'}, ylabel='feature'>"
      ]
     },
     "execution_count": 21,
     "metadata": {},
     "output_type": "execute_result"
    },
    {
     "data": {
      "image/png": "[encoded data removed]",
      "text/plain": [
       "<Figure size 640x480 with 1 Axes>"
      ]
     },
     "metadata": {},
     "output_type": "display_data"
    }
   ],
   "source": [
    "chosen_per_feature_stability = pd.DataFrame(feature_count_max_stability.sum(axis=0)).reset_index()\n",
    "chosen_per_feature_stability.columns = ['feature', 'count']\n",
    "chosen_per_feature_stability.sort_values('count',inplace=True, ascending=False)\n",
    "chosen_per_feature_stability.iloc[:50,].plot.barh(y='count', x='feature', title='Number of times a feature was chosen across iterations.\\nLambda chosen with maximal stability')"
   ]
  },
  {
   "cell_type": "code",
   "execution_count": 34,
   "metadata": {},
   "outputs": [
    {
     "data": {
      "text/plain": [
       "0     26624\n",
       "1       590\n",
       "2       262\n",
       "3       157\n",
       "4       101\n",
       "5        87\n",
       "6        65\n",
       "7        59\n",
       "8        70\n",
       "9        81\n",
       "10      202\n",
       "Name: count, dtype: int64"
      ]
     },
     "execution_count": 34,
     "metadata": {},
     "output_type": "execute_result"
    }
   ],
   "source": [
    "chosen_per_feature_stability['count'].value_counts().sort_index()"
   ]
  },
  {
   "cell_type": "code",
   "execution_count": 26,
   "metadata": {},
   "outputs": [
    {
     "data": {
      "text/plain": [
       "<Axes: title={'center': 'Number of times a feature was chosen across iterations.\\nLambda chosen with maximal accuracy'}, ylabel='feature'>"
      ]
     },
     "execution_count": 26,
     "metadata": {},
     "output_type": "execute_result"
    },
    {
     "data": {
      "image/png": "[encoded data removed]",
      "text/plain": [
       "<Figure size 640x480 with 1 Axes>"
      ]
     },
     "metadata": {},
     "output_type": "display_data"
    }
   ],
   "source": [
    "chosen_per_feature_accuracy = pd.DataFrame(feature_count_max_accuracy.sum(axis=0)).reset_index()\n",
    "chosen_per_feature_accuracy.columns = ['feature', 'count']\n",
    "chosen_per_feature_accuracy.sort_values('count',inplace=True, ascending=False)\n",
    "chosen_per_feature_accuracy.iloc[:20,].plot.barh(y='count', x='feature', title='Number of times a feature was chosen across iterations.\\nLambda chosen with maximal accuracy')"
   ]
  },
  {
   "cell_type": "code",
   "execution_count": 35,
   "metadata": {},
   "outputs": [
    {
     "data": {
      "text/plain": [
       "0    27945\n",
       "1      202\n",
       "2       57\n",
       "3       39\n",
       "4       28\n",
       "5       12\n",
       "6        6\n",
       "7        6\n",
       "8        2\n",
       "9        1\n",
       "Name: count, dtype: int64"
      ]
     },
     "execution_count": 35,
     "metadata": {},
     "output_type": "execute_result"
    }
   ],
   "source": [
    "chosen_per_feature_accuracy['count'].value_counts().sort_index()"
   ]
  },
  {
   "attachments": {},
   "cell_type": "markdown",
   "metadata": {},
   "source": [
    "TODO: explain - for the lambda with max accuracy we don't even have a single feature that was chosen across all iterations whereas for the lambda with max stability we have much more(could be due to collinearity, though!)"
   ]
  },
  {
   "attachments": {},
   "cell_type": "markdown",
   "metadata": {},
   "source": [
    "## Potential next steps\n",
    "\n",
    "Now that we analysed which hyperparameter(s) might be good for fitting our model and what is the effect of it on the stability, we can choose how to proceed with the analysis. This, of course, depends on our goal and we will cover two possible options:\n",
    "\n",
    "1. You wish to have a trained model with coefficients that you want to reuse on the unseen data\n",
    "2. You wish to decide on the final reduced set of features that will enter some other statistical analysis (e.g. the set of chosen genes will be selected for further inspection to seach for clinical signal or a doctor should pay extra attention to selected variables when assessing the patient.)"
   ]
  },
  {
   "attachments": {},
   "cell_type": "markdown",
   "metadata": {},
   "source": [
    "### Option 1 - training the model by using newly gained knowledge"
   ]
  },
  {
   "attachments": {},
   "cell_type": "markdown",
   "metadata": {},
   "source": [
    "Now that we know much more about the effect of the regularization parameter on both accuracy and stability of the model and feature selection, we need to decide whether we are ready to accept the aforementioned trade-off between accuracy and stability, i.e., decide if we want to lose a bit of accuracy for the sake of more stable model.\n",
    "...TBA..."
   ]
  },
  {
   "cell_type": "code",
   "execution_count": null,
   "metadata": {},
   "outputs": [],
   "source": [
    "# # Train test split\n",
    "# X_train, X_test, y_train, y_test = train_test_split(\n",
    "#     data_model.drop(columns=[target], axis=1),\n",
    "#     data_model[target], stratify = data_model[target],\n",
    "#     test_size=0.2,\n",
    "#     random_state=444)\n",
    "\n",
    "# # Train - validation split\n",
    "# X_train, X_valid, y_train, y_valid = train_test_split(\n",
    "#     X_train,\n",
    "#     y_train, stratify = y_train,\n",
    "#     test_size=0.2,\n",
    "#     random_state=234)\n",
    "\n",
    "# print(f\"X train: {X_train.shape}, X test: {X_test.shape}, X valid: {X_valid.shape}\")\n",
    "# print(f\"y train: {y_train.shape}, y test: {y_test.shape}, y valid: {y_valid.shape}\")\n",
    "# print(f\"y train values: {np.unique(y_train, return_counts=True)}\")\n",
    "# print(f\"y test values: {np.unique(y_test, return_counts=True)}\")\n",
    "\n",
    "# # Encode labels\n",
    "# encoder = LabelEncoder()\n",
    "# y_train = encoder.fit_transform(y_train)\n",
    "# y_test = encoder.transform(y_test)\n",
    "\n",
    "# print(\"Encoding check:\")\n",
    "# print(np.unique(y_train, return_counts=True))\n",
    "# print(np.unique(y_test, return_counts=True))\n",
    "\n",
    "# # Scale the data\n",
    "# scaler = StandardScaler()\n",
    "# X_train_transformed = scaler.fit_transform(X_train)\n",
    "# X_test_transformed = scaler.transform(X_test)\n",
    "# X_valid_transformed = scaler.transform(X_valid)\n"
   ]
  },
  {
   "cell_type": "code",
   "execution_count": null,
   "metadata": {},
   "outputs": [],
   "source": [
    "# # Define a model\n",
    "# model = LogisticRegression(penalty = 'elasticnet', \n",
    "#                            solver = 'saga', \n",
    "#                            l1_ratio = 0.5, \n",
    "#                            C = lambdas[best_index], \n",
    "#                            max_iter=1000, \n",
    "#                            random_state=12345)\n",
    "\n",
    "# model_grid = LogisticRegression(penalty = 'elasticnet', \n",
    "#                                 solver = 'saga', \n",
    "#                                 l1_ratio = 0.5, \n",
    "#                                 C = lambdas[gridsearch_index],\n",
    "#                                 max_iter=1000, \n",
    "#                                 random_state=12345)"
   ]
  },
  {
   "cell_type": "code",
   "execution_count": null,
   "metadata": {},
   "outputs": [],
   "source": [
    "# oob_scorer = lambda y_test, y_pred: 1-accuracy_score(y_test, y_pred)\n",
    "# my_scorer = make_scorer(oob_scorer, greater_is_better=False) # Smaller OOB error means better model\n",
    "\n",
    "# # Run cross_val_score\n",
    "# print(f\"Average accuracy across 4-fold cv: {round(np.mean(cross_val_score(model, X_train_transformed, y_train, \n",
    "#                                                                           cv=4, scoring='accuracy'))*100,2)}%\")"
   ]
  },
  {
   "attachments": {},
   "cell_type": "markdown",
   "metadata": {},
   "source": [
    "What if we fit with the grid-search index?"
   ]
  },
  {
   "cell_type": "code",
   "execution_count": null,
   "metadata": {},
   "outputs": [],
   "source": [
    "# oob_scorer = lambda y_test, y_pred: 1-accuracy_score(y_test, y_pred)\n",
    "# my_scorer = make_scorer(oob_scorer, greater_is_better=False) # Smaller OOB error means better model\n",
    "\n",
    "# # Run cross_val_score\n",
    "# print(f\"Average accuracy across 4-fold cv: {round(np.mean(cross_val_score(model_grid, X_train_transformed, y_train,\n",
    "#                                                                           cv=4, scoring='accuracy'))*100,2)}%\")\n"
   ]
  },
  {
   "attachments": {},
   "cell_type": "markdown",
   "metadata": {},
   "source": [
    "### Option 2 - selecting final set of features"
   ]
  },
  {
   "attachments": {},
   "cell_type": "markdown",
   "metadata": {},
   "source": [
    "Stability selector paper: \n",
    "\n",
    "**set of stable features** = set of all the features having a frequency of selection higher than some user defined threshold for __at least__ one of the regularizing parameteres lambda from lambdas\n",
    "\n",
    "Other options - for chosen lambda, select the treshold and take the features above it...\n",
    "\n",
    "\n",
    "TODO - decide what and how to present"
   ]
  },
  {
   "cell_type": "code",
   "execution_count": 36,
   "metadata": {},
   "outputs": [],
   "source": [
    "for i in range(len(lambdas)):\n",
    "    Z_i = Z_dict[lambdas[i]]\n",
    "    if i==0:\n",
    "        count_per_feature = pd.DataFrame(Z_i.sum(axis=0), columns=['lambda_'+str(i)])\n",
    "    else:\n",
    "        count_per_feature = pd.concat([count_per_feature, pd.DataFrame(Z_i.sum(axis=0), columns=['lambda_'+str(i+1)])], axis=1)\n",
    "count_per_feature['total'] = count_per_feature.sum(axis=1)\n",
    "count_per_feature.sort_values(by='total', ascending=False, inplace=True)"
   ]
  },
  {
   "cell_type": "code",
   "execution_count": 37,
   "metadata": {},
   "outputs": [
    {
     "data": {
      "text/html": [
       "<div>\n",
       "<style scoped>\n",
       "    .dataframe tbody tr th:only-of-type {\n",
       "        vertical-align: middle;\n",
       "    }\n",
       "\n",
       "    .dataframe tbody tr th {\n",
       "        vertical-align: top;\n",
       "    }\n",
       "\n",
       "    .dataframe thead th {\n",
       "        text-align: right;\n",
       "    }\n",
       "</style>\n",
       "<table border=\"1\" class=\"dataframe\">\n",
       "  <thead>\n",
       "    <tr style=\"text-align: right;\">\n",
       "      <th></th>\n",
       "      <th>lambda_0</th>\n",
       "      <th>lambda_2</th>\n",
       "      <th>lambda_3</th>\n",
       "      <th>lambda_4</th>\n",
       "      <th>lambda_5</th>\n",
       "      <th>lambda_6</th>\n",
       "      <th>lambda_7</th>\n",
       "      <th>lambda_8</th>\n",
       "      <th>lambda_9</th>\n",
       "      <th>lambda_10</th>\n",
       "      <th>total</th>\n",
       "    </tr>\n",
       "  </thead>\n",
       "  <tbody>\n",
       "    <tr>\n",
       "      <th>Solyc06g048530.2.1</th>\n",
       "      <td>0</td>\n",
       "      <td>0</td>\n",
       "      <td>0</td>\n",
       "      <td>1</td>\n",
       "      <td>9</td>\n",
       "      <td>10</td>\n",
       "      <td>10</td>\n",
       "      <td>10</td>\n",
       "      <td>10</td>\n",
       "      <td>10</td>\n",
       "      <td>60</td>\n",
       "    </tr>\n",
       "    <tr>\n",
       "      <th>Solyc07g017700.1.1</th>\n",
       "      <td>0</td>\n",
       "      <td>0</td>\n",
       "      <td>0</td>\n",
       "      <td>2</td>\n",
       "      <td>8</td>\n",
       "      <td>10</td>\n",
       "      <td>10</td>\n",
       "      <td>10</td>\n",
       "      <td>10</td>\n",
       "      <td>10</td>\n",
       "      <td>60</td>\n",
       "    </tr>\n",
       "    <tr>\n",
       "      <th>Solyc07g022880.2.1</th>\n",
       "      <td>0</td>\n",
       "      <td>0</td>\n",
       "      <td>0</td>\n",
       "      <td>0</td>\n",
       "      <td>8</td>\n",
       "      <td>10</td>\n",
       "      <td>10</td>\n",
       "      <td>10</td>\n",
       "      <td>10</td>\n",
       "      <td>10</td>\n",
       "      <td>58</td>\n",
       "    </tr>\n",
       "    <tr>\n",
       "      <th>Solyc01g110330.1.1</th>\n",
       "      <td>0</td>\n",
       "      <td>0</td>\n",
       "      <td>0</td>\n",
       "      <td>2</td>\n",
       "      <td>7</td>\n",
       "      <td>9</td>\n",
       "      <td>9</td>\n",
       "      <td>10</td>\n",
       "      <td>10</td>\n",
       "      <td>10</td>\n",
       "      <td>57</td>\n",
       "    </tr>\n",
       "    <tr>\n",
       "      <th>Solyc08g065490.2.1</th>\n",
       "      <td>0</td>\n",
       "      <td>0</td>\n",
       "      <td>0</td>\n",
       "      <td>0</td>\n",
       "      <td>7</td>\n",
       "      <td>10</td>\n",
       "      <td>10</td>\n",
       "      <td>10</td>\n",
       "      <td>10</td>\n",
       "      <td>10</td>\n",
       "      <td>57</td>\n",
       "    </tr>\n",
       "    <tr>\n",
       "      <th>...</th>\n",
       "      <td>...</td>\n",
       "      <td>...</td>\n",
       "      <td>...</td>\n",
       "      <td>...</td>\n",
       "      <td>...</td>\n",
       "      <td>...</td>\n",
       "      <td>...</td>\n",
       "      <td>...</td>\n",
       "      <td>...</td>\n",
       "      <td>...</td>\n",
       "      <td>...</td>\n",
       "    </tr>\n",
       "    <tr>\n",
       "      <th>Solyc03g083040.1.1</th>\n",
       "      <td>0</td>\n",
       "      <td>0</td>\n",
       "      <td>0</td>\n",
       "      <td>0</td>\n",
       "      <td>0</td>\n",
       "      <td>0</td>\n",
       "      <td>0</td>\n",
       "      <td>0</td>\n",
       "      <td>0</td>\n",
       "      <td>0</td>\n",
       "      <td>0</td>\n",
       "    </tr>\n",
       "    <tr>\n",
       "      <th>Solyc01g080380.2.1</th>\n",
       "      <td>0</td>\n",
       "      <td>0</td>\n",
       "      <td>0</td>\n",
       "      <td>0</td>\n",
       "      <td>0</td>\n",
       "      <td>0</td>\n",
       "      <td>0</td>\n",
       "      <td>0</td>\n",
       "      <td>0</td>\n",
       "      <td>0</td>\n",
       "      <td>0</td>\n",
       "    </tr>\n",
       "    <tr>\n",
       "      <th>Solyc08g036640.2.1</th>\n",
       "      <td>0</td>\n",
       "      <td>0</td>\n",
       "      <td>0</td>\n",
       "      <td>0</td>\n",
       "      <td>0</td>\n",
       "      <td>0</td>\n",
       "      <td>0</td>\n",
       "      <td>0</td>\n",
       "      <td>0</td>\n",
       "      <td>0</td>\n",
       "      <td>0</td>\n",
       "    </tr>\n",
       "    <tr>\n",
       "      <th>Solyc02g086190.1.1</th>\n",
       "      <td>0</td>\n",
       "      <td>0</td>\n",
       "      <td>0</td>\n",
       "      <td>0</td>\n",
       "      <td>0</td>\n",
       "      <td>0</td>\n",
       "      <td>0</td>\n",
       "      <td>0</td>\n",
       "      <td>0</td>\n",
       "      <td>0</td>\n",
       "      <td>0</td>\n",
       "    </tr>\n",
       "    <tr>\n",
       "      <th>Solyc10g007270.2.1</th>\n",
       "      <td>0</td>\n",
       "      <td>0</td>\n",
       "      <td>0</td>\n",
       "      <td>0</td>\n",
       "      <td>0</td>\n",
       "      <td>0</td>\n",
       "      <td>0</td>\n",
       "      <td>0</td>\n",
       "      <td>0</td>\n",
       "      <td>0</td>\n",
       "      <td>0</td>\n",
       "    </tr>\n",
       "  </tbody>\n",
       "</table>\n",
       "<p>28298 rows × 11 columns</p>\n",
       "</div>"
      ],
      "text/plain": [
       "                    lambda_0  lambda_2  lambda_3  lambda_4  lambda_5  \\\n",
       "Solyc06g048530.2.1         0         0         0         1         9   \n",
       "Solyc07g017700.1.1         0         0         0         2         8   \n",
       "Solyc07g022880.2.1         0         0         0         0         8   \n",
       "Solyc01g110330.1.1         0         0         0         2         7   \n",
       "Solyc08g065490.2.1         0         0         0         0         7   \n",
       "...                      ...       ...       ...       ...       ...   \n",
       "Solyc03g083040.1.1         0         0         0         0         0   \n",
       "Solyc01g080380.2.1         0         0         0         0         0   \n",
       "Solyc08g036640.2.1         0         0         0         0         0   \n",
       "Solyc02g086190.1.1         0         0         0         0         0   \n",
       "Solyc10g007270.2.1         0         0         0         0         0   \n",
       "\n",
       "                    lambda_6  lambda_7  lambda_8  lambda_9  lambda_10  total  \n",
       "Solyc06g048530.2.1        10        10        10        10         10     60  \n",
       "Solyc07g017700.1.1        10        10        10        10         10     60  \n",
       "Solyc07g022880.2.1        10        10        10        10         10     58  \n",
       "Solyc01g110330.1.1         9         9        10        10         10     57  \n",
       "Solyc08g065490.2.1        10        10        10        10         10     57  \n",
       "...                      ...       ...       ...       ...        ...    ...  \n",
       "Solyc03g083040.1.1         0         0         0         0          0      0  \n",
       "Solyc01g080380.2.1         0         0         0         0          0      0  \n",
       "Solyc08g036640.2.1         0         0         0         0          0      0  \n",
       "Solyc02g086190.1.1         0         0         0         0          0      0  \n",
       "Solyc10g007270.2.1         0         0         0         0          0      0  \n",
       "\n",
       "[28298 rows x 11 columns]"
      ]
     },
     "execution_count": 37,
     "metadata": {},
     "output_type": "execute_result"
    }
   ],
   "source": [
    "count_per_feature"
   ]
  },
  {
   "cell_type": "code",
   "execution_count": 38,
   "metadata": {},
   "outputs": [
    {
     "data": {
      "text/plain": [
       "9"
      ]
     },
     "execution_count": 38,
     "metadata": {},
     "output_type": "execute_result"
    }
   ],
   "source": [
    "# Set the threshold - percentage of M\n",
    "threshold = int(0.9*M)\n",
    "threshold"
   ]
  },
  {
   "cell_type": "code",
   "execution_count": 39,
   "metadata": {},
   "outputs": [],
   "source": [
    "final_feature_set = []\n",
    "for i in range(count_per_feature.shape[0]):\n",
    "    if (count_per_feature.iloc[i,:count_per_feature.shape[1]-1] >= threshold).any() == True:\n",
    "        final_feature_set.append(count_per_feature.index[i])"
   ]
  },
  {
   "cell_type": "code",
   "execution_count": 40,
   "metadata": {},
   "outputs": [
    {
     "name": "stdout",
     "output_type": "stream",
     "text": [
      "There are 283 features in the final feature set, based on a threshold of 9:\n",
      "\n",
      "Solyc06g048530.2.1\n",
      "Solyc07g017700.1.1\n",
      "Solyc07g022880.2.1\n",
      "Solyc01g110330.1.1\n",
      "Solyc08g065490.2.1\n",
      "Solyc12g062670.1.1\n",
      "Solyc10g086770.1.1\n",
      "Solyc07g026950.2.1\n",
      "Solyc04g039670.2.1\n",
      "Solyc04g005540.2.1\n",
      "Solyc06g035940.2.1\n",
      "Solyc06g017860.1.1\n",
      "Solyc11g045470.1.1\n",
      "Solyc11g008420.1.1\n",
      "Solyc07g026860.2.1\n",
      "Solyc03g034200.2.1\n",
      "Solyc02g075610.2.1\n",
      "Solyc11g045480.1.1\n",
      "Solyc01g073970.2.1\n",
      "Solyc07g021650.1.1\n",
      "Solyc06g036630.1.1\n",
      "Solyc05g050590.2.1\n",
      "Solyc06g050320.2.1\n",
      "Solyc12g049580.1.1\n",
      "Solyc08g041760.1.1\n",
      "Solyc05g015730.1.1\n",
      "Solyc06g054550.2.1\n",
      "Solyc06g036620.1.1\n",
      "Solyc05g050370.1.1\n",
      "Solyc12g042240.1.1\n",
      "Solyc10g005120.1.1\n",
      "Solyc07g023990.1.1\n",
      "Solyc07g032080.2.1\n",
      "Solyc04g055060.1.1\n",
      "Solyc08g015650.2.1\n",
      "Solyc12g088180.1.1\n",
      "Solyc03g059150.2.1\n",
      "Solyc05g013260.1.1\n",
      "Solyc08g065310.2.1\n",
      "Solyc03g071680.1.1\n",
      "Solyc00g017540.1.1\n",
      "Solyc07g017710.1.1\n",
      "Solyc05g013250.1.1\n",
      "Solyc03g116820.2.1\n",
      "Solyc03g079970.1.1\n",
      "Solyc01g009840.1.1\n",
      "Solyc07g008970.2.1\n",
      "Solyc04g015500.2.1\n",
      "Solyc08g013750.2.1\n",
      "Solyc08g006910.2.1\n",
      "Solyc06g009490.2.1\n",
      "Solyc01g104710.2.1\n",
      "Solyc06g036250.1.1\n",
      "Solyc11g028170.1.1\n",
      "Solyc05g014090.1.1\n",
      "Solyc08g005160.1.1\n",
      "Solyc07g042280.2.1\n",
      "Solyc08g015680.1.1\n",
      "Solyc11g040290.1.1\n",
      "Solyc11g072100.1.1\n",
      "Solyc03g078480.1.1\n",
      "Solyc06g036490.1.1\n",
      "Solyc02g069140.1.1\n",
      "Solyc04g064470.1.1\n",
      "Solyc04g045310.2.1\n",
      "Solyc06g005100.2.1\n",
      "Solyc03g046260.1.1\n",
      "Solyc01g014980.2.1\n",
      "Solyc10g052710.1.1\n",
      "Solyc06g005450.1.1\n",
      "Solyc02g032890.1.1\n",
      "Solyc05g054350.2.1\n",
      "Solyc09g075400.2.1\n",
      "Solyc07g017680.1.1\n",
      "Solyc12g056600.2.1\n",
      "Solyc03g063890.1.1\n",
      "Solyc05g018060.1.1\n",
      "Solyc08g041750.1.1\n",
      "Solyc04g016550.2.1\n",
      "Solyc02g065480.2.1\n",
      "Solyc06g064500.2.1\n",
      "Solyc04g024960.1.1\n",
      "Solyc03g071670.1.1\n",
      "Solyc01g010220.2.1\n",
      "Solyc04g054260.2.1\n",
      "Solyc07g021710.2.1\n",
      "Solyc09g005580.2.1\n",
      "Solyc03g078470.2.1\n",
      "Solyc08g068440.2.1\n",
      "Solyc04g025930.1.1\n",
      "Solyc11g042860.1.1\n",
      "Solyc09g059250.1.1\n",
      "Solyc12g082730.1.1\n",
      "Solyc12g040830.1.1\n",
      "Solyc10g050190.1.1\n",
      "Solyc09g015890.2.1\n",
      "Solyc12g009920.1.1\n",
      "Solyc10g086240.1.1\n",
      "Solyc01g065490.2.1\n",
      "Solyc04g028440.1.1\n",
      "Solyc11g012550.1.1\n",
      "Solyc12g077670.1.1\n",
      "Solyc01g106120.2.1\n",
      "Solyc07g026960.2.1\n",
      "Solyc10g044750.1.1\n",
      "Solyc07g017690.2.1\n",
      "Solyc03g058460.1.1\n",
      "Solyc06g069470.2.1\n",
      "Solyc10g086220.1.1\n",
      "Solyc09g092040.2.1\n",
      "Solyc02g088610.2.1\n",
      "Solyc02g021490.1.1\n",
      "Solyc02g064620.2.1\n",
      "Solyc03g051750.1.1\n",
      "Solyc01g056650.1.1\n",
      "Solyc03g078630.2.1\n",
      "Solyc11g015900.1.1\n",
      "Solyc06g008780.1.1\n",
      "Solyc12g019430.1.1\n",
      "Solyc08g074640.1.1\n",
      "Solyc07g017370.1.1\n",
      "Solyc12g063050.1.1\n",
      "Solyc03g097860.1.1\n",
      "Solyc01g111030.1.1\n",
      "Solyc01g060070.2.1\n",
      "Solyc01g010180.2.1\n",
      "Solyc06g019190.1.1\n",
      "Solyc07g005770.2.1\n",
      "Solyc02g014720.2.1\n",
      "Solyc05g053600.2.1\n",
      "Solyc12g014560.1.1\n",
      "Solyc05g013970.2.1\n",
      "Solyc01g066340.2.1\n",
      "Solyc09g090440.1.1\n",
      "Solyc02g066830.2.1\n",
      "Solyc04g024420.2.1\n",
      "Solyc08g066620.2.1\n",
      "Solyc12g009350.1.1\n",
      "Solyc02g086580.2.1\n",
      "Solyc06g051820.2.1\n",
      "Solyc10g045320.1.1\n",
      "Solyc09g074410.2.1\n",
      "Solyc01g088170.2.1\n",
      "Solyc02g086400.1.1\n",
      "Solyc05g026090.1.1\n",
      "Solyc09g097970.2.1\n",
      "Solyc04g075010.1.1\n",
      "Solyc10g049790.1.1\n",
      "Solyc03g096220.2.1\n",
      "Solyc01g047590.1.1\n",
      "Solyc01g108580.2.1\n",
      "Solyc04g016400.2.1\n",
      "Solyc10g008310.1.1\n",
      "Solyc07g021490.1.1\n",
      "Solyc06g017850.1.1\n",
      "Solyc10g055720.1.1\n",
      "Solyc09g075690.1.1\n",
      "Solyc05g010530.2.1\n",
      "Solyc07g041280.2.1\n",
      "Solyc09g007940.2.1\n",
      "Solyc12g095930.1.1\n",
      "Solyc03g097080.2.1\n",
      "Solyc08g008000.1.1\n",
      "Solyc07g041330.1.1\n",
      "Solyc00g085070.2.1\n",
      "Solyc01g087380.2.1\n",
      "Solyc07g052700.2.1\n",
      "Solyc12g042750.1.1\n",
      "Solyc02g080960.1.1\n",
      "Solyc01g094080.2.1\n",
      "Solyc08g062580.1.1\n",
      "Solyc12g096010.1.1\n",
      "Solyc08g081670.1.1\n",
      "Solyc09g018670.2.1\n",
      "Solyc06g036480.1.1\n",
      "Solyc04g008310.1.1\n",
      "Solyc08g082980.2.1\n",
      "Solyc05g012890.1.1\n",
      "Solyc01g015030.1.1\n",
      "Solyc08g076550.1.1\n",
      "Solyc12g044930.1.1\n",
      "Solyc09g059020.2.1\n",
      "Solyc11g068850.1.1\n",
      "Solyc05g009760.1.1\n",
      "Solyc02g082930.2.1\n",
      "Solyc03g095710.2.1\n",
      "Solyc11g069620.1.1\n",
      "Solyc01g109010.2.1\n",
      "Solyc06g067920.2.1\n",
      "Solyc03g098730.1.1\n",
      "Solyc04g082360.1.1\n",
      "Solyc05g013270.1.1\n",
      "Solyc05g006740.2.1\n",
      "Solyc03g078300.1.1\n",
      "Solyc11g042490.1.1\n",
      "Solyc06g036310.2.1\n",
      "Solyc04g010130.1.1\n",
      "Solyc01g086810.2.1\n",
      "Solyc07g025180.1.1\n",
      "Solyc12g013530.1.1\n",
      "Solyc03g071660.1.1\n",
      "Solyc11g020820.1.1\n",
      "Solyc05g007540.1.1\n",
      "Solyc05g010540.2.1\n",
      "Solyc05g053570.2.1\n",
      "Solyc07g055540.2.1\n",
      "Solyc04g028470.1.1\n",
      "Solyc03g005570.2.1\n",
      "Solyc04g074530.2.1\n",
      "Solyc06g054410.2.1\n",
      "Solyc12g016220.1.1\n",
      "Solyc10g007420.2.1\n",
      "Solyc02g092600.2.1\n",
      "Solyc08g023540.1.1\n",
      "Solyc08g068700.1.1\n",
      "Solyc02g094060.2.1\n",
      "Solyc08g005350.2.1\n",
      "Solyc05g005930.1.1\n",
      "Solyc03g036470.1.1\n",
      "Solyc05g052320.2.1\n",
      "Solyc12g044820.1.1\n",
      "Solyc02g027080.1.1\n",
      "Solyc03g059160.1.1\n",
      "Solyc10g044480.1.1\n",
      "Solyc01g108750.2.1\n",
      "Solyc04g005520.2.1\n",
      "Solyc09g011600.2.1\n",
      "Solyc02g086970.2.1\n",
      "Solyc03g117410.2.1\n",
      "Solyc01g105420.2.1\n",
      "Solyc10g085960.1.1\n",
      "Solyc09g098770.1.1\n",
      "Solyc09g065940.2.1\n",
      "Solyc11g044960.1.1\n",
      "Solyc01g087770.2.1\n",
      "Solyc12g038350.1.1\n",
      "Solyc08g006560.2.1\n",
      "Solyc08g074830.2.1\n",
      "Solyc06g060710.2.1\n",
      "Solyc08g044520.1.1\n",
      "Solyc12g010210.1.1\n",
      "Solyc01g034070.1.1\n",
      "Solyc01g090700.2.1\n",
      "Solyc11g056350.1.1\n",
      "Solyc11g072900.1.1\n",
      "Solyc08g007640.1.1\n",
      "Solyc10g008100.2.1\n",
      "Solyc10g055780.1.1\n",
      "Solyc02g091500.1.1\n",
      "Solyc06g035810.1.1\n",
      "Solyc05g014260.2.1\n",
      "Solyc08g061590.2.1\n",
      "Solyc07g053120.2.1\n",
      "Solyc06g071250.2.1\n",
      "Solyc02g049080.1.1\n",
      "Solyc10g045280.1.1\n",
      "Solyc10g045420.1.1\n",
      "Solyc04g010040.2.1\n",
      "Solyc09g065780.2.1\n",
      "Solyc05g005540.2.1\n",
      "Solyc06g011490.2.1\n",
      "Solyc01g100040.2.1\n",
      "Solyc07g018400.2.1\n",
      "Solyc03g117400.2.1\n",
      "Solyc09g018650.2.1\n",
      "Solyc07g061740.2.1\n",
      "Solyc12g009700.1.1\n",
      "Solyc01g100120.2.1\n",
      "Solyc01g010700.2.1\n",
      "Solyc03g083180.1.1\n",
      "Solyc12g019090.1.1\n",
      "Solyc12g020000.1.1\n",
      "Solyc10g080340.1.1\n",
      "Solyc02g067260.1.1\n",
      "Solyc02g090530.2.1\n",
      "Solyc02g082290.2.1\n",
      "Solyc11g042920.1.1\n",
      "Solyc09g064870.2.1\n",
      "Solyc01g010710.2.1\n",
      "Solyc01g097540.2.1\n",
      "Solyc02g087830.2.1\n",
      "Solyc09g007390.2.1\n",
      "Solyc10g049800.1.1\n"
     ]
    }
   ],
   "source": [
    "#final_feature_set = list(count_per_feature.index[np.where(count_per_feature['total'] >= threshold)[0]])\n",
    "print(f\"There are {len(final_feature_set)} features in the final feature set, based on a threshold of {threshold}:\\n\")\n",
    "print(*final_feature_set, sep='\\n')"
   ]
  },
  {
   "attachments": {},
   "cell_type": "markdown",
   "metadata": {},
   "source": [
    "TODO - address overfitting! Correlations?"
   ]
  }
 ],
 "metadata": {
  "kernelspec": {
   "display_name": "dimred-course",
   "language": "python",
   "name": "python3"
  },
  "language_info": {
   "codemirror_mode": {
    "name": "ipython",
    "version": 3
   },
   "file_extension": ".py",
   "mimetype": "text/x-python",
   "name": "python",
   "nbconvert_exporter": "python",
   "pygments_lexer": "ipython3",
   "version": "3.10.11"
  },
  "orig_nbformat": 4
 },
 "nbformat": 4,
 "nbformat_minor": 2
}
