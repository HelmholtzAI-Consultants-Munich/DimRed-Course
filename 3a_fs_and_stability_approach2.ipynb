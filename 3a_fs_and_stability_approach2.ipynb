{
 "cells": [
  {
   "attachments": {},
   "cell_type": "markdown",
   "metadata": {},
   "source": [
    "# Stability of feature selection with regularized methods"
   ]
  },
  {
   "attachments": {},
   "cell_type": "markdown",
   "metadata": {},
   "source": [
    "In this tutorial, we will explore the concept of _'stability'_ of a feature selection algorithm. The term here refers to the robustness of its feature preferences, with respect to data sampling.  We can say that feature has high stability if multiple feature selection repetitions “agree” that this feature is important and low stability when multiple feature selection processes  “disagree” that this feature is important.  \n",
    "\n",
    "Stability is not always easy to achieve, especially in the real world data, but it is extremely important to analyse when selecting features. Having a stable set of features is a proxy for _reproducible research_, especially in the biomedical field (e.g. which genes that algorithm selected are likely to be a data artefact and not a real clinical signal worth pursuing further?)"
   ]
  },
  {
   "attachments": {},
   "cell_type": "markdown",
   "metadata": {},
   "source": [
    "______________________________\n",
    "\n",
    "Let's start! As always, we first load the packages we need:"
   ]
  },
  {
   "attachments": {},
   "cell_type": "markdown",
   "metadata": {},
   "source": [
    "**TBA**: Reference to Noguiera tutorial/paper!"
   ]
  },
  {
   "cell_type": "code",
   "execution_count": 91,
   "metadata": {},
   "outputs": [],
   "source": [
    "import pandas as pd\n",
    "import numpy as np\n",
    "from sklearn.linear_model import LogisticRegression\n",
    "from sklearn.model_selection import GridSearchCV, StratifiedKFold\n",
    "from sklearn.preprocessing import StandardScaler, LabelEncoder\n",
    "from sklearn.model_selection import train_test_split, cross_val_score\n",
    "from sklearn.metrics._scorer import make_scorer\n",
    "from sklearn.metrics import balanced_accuracy_score, accuracy_score\n",
    "import stability as st\n",
    "from utils_ import getBootstrapSample\n",
    "import matplotlib.pyplot as plt\n",
    "from tqdm import tqdm"
   ]
  },
  {
   "attachments": {},
   "cell_type": "markdown",
   "metadata": {},
   "source": [
    "## Data loading"
   ]
  },
  {
   "attachments": {},
   "cell_type": "markdown",
   "metadata": {},
   "source": [
    "Here we just load the data we preprocessed in the data_preprocessing.ipynb. Recall, this is the gene expression dataset with... **TBA**\n",
    "\n",
    "**NOTE** - currently the results show the breast cancer dataset as they are much better to showcase what we want!"
   ]
  },
  {
   "cell_type": "code",
   "execution_count": 92,
   "metadata": {},
   "outputs": [
    {
     "data": {
      "text/html": [
       "<div>\n",
       "<style scoped>\n",
       "    .dataframe tbody tr th:only-of-type {\n",
       "        vertical-align: middle;\n",
       "    }\n",
       "\n",
       "    .dataframe tbody tr th {\n",
       "        vertical-align: top;\n",
       "    }\n",
       "\n",
       "    .dataframe thead th {\n",
       "        text-align: right;\n",
       "    }\n",
       "</style>\n",
       "<table border=\"1\" class=\"dataframe\">\n",
       "  <thead>\n",
       "    <tr style=\"text-align: right;\">\n",
       "      <th></th>\n",
       "      <th>mean radius</th>\n",
       "      <th>mean texture</th>\n",
       "      <th>mean perimeter</th>\n",
       "      <th>mean area</th>\n",
       "      <th>mean smoothness</th>\n",
       "      <th>mean compactness</th>\n",
       "      <th>mean concavity</th>\n",
       "      <th>mean concave points</th>\n",
       "      <th>mean symmetry</th>\n",
       "      <th>mean fractal dimension</th>\n",
       "      <th>...</th>\n",
       "      <th>worst texture</th>\n",
       "      <th>worst perimeter</th>\n",
       "      <th>worst area</th>\n",
       "      <th>worst smoothness</th>\n",
       "      <th>worst compactness</th>\n",
       "      <th>worst concavity</th>\n",
       "      <th>worst concave points</th>\n",
       "      <th>worst symmetry</th>\n",
       "      <th>worst fractal dimension</th>\n",
       "      <th>target</th>\n",
       "    </tr>\n",
       "  </thead>\n",
       "  <tbody>\n",
       "    <tr>\n",
       "      <th>0</th>\n",
       "      <td>17.99</td>\n",
       "      <td>10.38</td>\n",
       "      <td>122.80</td>\n",
       "      <td>1001.0</td>\n",
       "      <td>0.11840</td>\n",
       "      <td>0.27760</td>\n",
       "      <td>0.3001</td>\n",
       "      <td>0.14710</td>\n",
       "      <td>0.2419</td>\n",
       "      <td>0.07871</td>\n",
       "      <td>...</td>\n",
       "      <td>17.33</td>\n",
       "      <td>184.60</td>\n",
       "      <td>2019.0</td>\n",
       "      <td>0.1622</td>\n",
       "      <td>0.6656</td>\n",
       "      <td>0.7119</td>\n",
       "      <td>0.2654</td>\n",
       "      <td>0.4601</td>\n",
       "      <td>0.11890</td>\n",
       "      <td>0</td>\n",
       "    </tr>\n",
       "    <tr>\n",
       "      <th>1</th>\n",
       "      <td>20.57</td>\n",
       "      <td>17.77</td>\n",
       "      <td>132.90</td>\n",
       "      <td>1326.0</td>\n",
       "      <td>0.08474</td>\n",
       "      <td>0.07864</td>\n",
       "      <td>0.0869</td>\n",
       "      <td>0.07017</td>\n",
       "      <td>0.1812</td>\n",
       "      <td>0.05667</td>\n",
       "      <td>...</td>\n",
       "      <td>23.41</td>\n",
       "      <td>158.80</td>\n",
       "      <td>1956.0</td>\n",
       "      <td>0.1238</td>\n",
       "      <td>0.1866</td>\n",
       "      <td>0.2416</td>\n",
       "      <td>0.1860</td>\n",
       "      <td>0.2750</td>\n",
       "      <td>0.08902</td>\n",
       "      <td>0</td>\n",
       "    </tr>\n",
       "    <tr>\n",
       "      <th>2</th>\n",
       "      <td>19.69</td>\n",
       "      <td>21.25</td>\n",
       "      <td>130.00</td>\n",
       "      <td>1203.0</td>\n",
       "      <td>0.10960</td>\n",
       "      <td>0.15990</td>\n",
       "      <td>0.1974</td>\n",
       "      <td>0.12790</td>\n",
       "      <td>0.2069</td>\n",
       "      <td>0.05999</td>\n",
       "      <td>...</td>\n",
       "      <td>25.53</td>\n",
       "      <td>152.50</td>\n",
       "      <td>1709.0</td>\n",
       "      <td>0.1444</td>\n",
       "      <td>0.4245</td>\n",
       "      <td>0.4504</td>\n",
       "      <td>0.2430</td>\n",
       "      <td>0.3613</td>\n",
       "      <td>0.08758</td>\n",
       "      <td>0</td>\n",
       "    </tr>\n",
       "    <tr>\n",
       "      <th>3</th>\n",
       "      <td>11.42</td>\n",
       "      <td>20.38</td>\n",
       "      <td>77.58</td>\n",
       "      <td>386.1</td>\n",
       "      <td>0.14250</td>\n",
       "      <td>0.28390</td>\n",
       "      <td>0.2414</td>\n",
       "      <td>0.10520</td>\n",
       "      <td>0.2597</td>\n",
       "      <td>0.09744</td>\n",
       "      <td>...</td>\n",
       "      <td>26.50</td>\n",
       "      <td>98.87</td>\n",
       "      <td>567.7</td>\n",
       "      <td>0.2098</td>\n",
       "      <td>0.8663</td>\n",
       "      <td>0.6869</td>\n",
       "      <td>0.2575</td>\n",
       "      <td>0.6638</td>\n",
       "      <td>0.17300</td>\n",
       "      <td>0</td>\n",
       "    </tr>\n",
       "    <tr>\n",
       "      <th>4</th>\n",
       "      <td>20.29</td>\n",
       "      <td>14.34</td>\n",
       "      <td>135.10</td>\n",
       "      <td>1297.0</td>\n",
       "      <td>0.10030</td>\n",
       "      <td>0.13280</td>\n",
       "      <td>0.1980</td>\n",
       "      <td>0.10430</td>\n",
       "      <td>0.1809</td>\n",
       "      <td>0.05883</td>\n",
       "      <td>...</td>\n",
       "      <td>16.67</td>\n",
       "      <td>152.20</td>\n",
       "      <td>1575.0</td>\n",
       "      <td>0.1374</td>\n",
       "      <td>0.2050</td>\n",
       "      <td>0.4000</td>\n",
       "      <td>0.1625</td>\n",
       "      <td>0.2364</td>\n",
       "      <td>0.07678</td>\n",
       "      <td>0</td>\n",
       "    </tr>\n",
       "  </tbody>\n",
       "</table>\n",
       "<p>5 rows × 31 columns</p>\n",
       "</div>"
      ],
      "text/plain": [
       "   mean radius  mean texture  mean perimeter  mean area  mean smoothness  \\\n",
       "0        17.99         10.38          122.80     1001.0          0.11840   \n",
       "1        20.57         17.77          132.90     1326.0          0.08474   \n",
       "2        19.69         21.25          130.00     1203.0          0.10960   \n",
       "3        11.42         20.38           77.58      386.1          0.14250   \n",
       "4        20.29         14.34          135.10     1297.0          0.10030   \n",
       "\n",
       "   mean compactness  mean concavity  mean concave points  mean symmetry  \\\n",
       "0           0.27760          0.3001              0.14710         0.2419   \n",
       "1           0.07864          0.0869              0.07017         0.1812   \n",
       "2           0.15990          0.1974              0.12790         0.2069   \n",
       "3           0.28390          0.2414              0.10520         0.2597   \n",
       "4           0.13280          0.1980              0.10430         0.1809   \n",
       "\n",
       "   mean fractal dimension  ...  worst texture  worst perimeter  worst area  \\\n",
       "0                 0.07871  ...          17.33           184.60      2019.0   \n",
       "1                 0.05667  ...          23.41           158.80      1956.0   \n",
       "2                 0.05999  ...          25.53           152.50      1709.0   \n",
       "3                 0.09744  ...          26.50            98.87       567.7   \n",
       "4                 0.05883  ...          16.67           152.20      1575.0   \n",
       "\n",
       "   worst smoothness  worst compactness  worst concavity  worst concave points  \\\n",
       "0            0.1622             0.6656           0.7119                0.2654   \n",
       "1            0.1238             0.1866           0.2416                0.1860   \n",
       "2            0.1444             0.4245           0.4504                0.2430   \n",
       "3            0.2098             0.8663           0.6869                0.2575   \n",
       "4            0.1374             0.2050           0.4000                0.1625   \n",
       "\n",
       "   worst symmetry  worst fractal dimension  target  \n",
       "0          0.4601                  0.11890       0  \n",
       "1          0.2750                  0.08902       0  \n",
       "2          0.3613                  0.08758       0  \n",
       "3          0.6638                  0.17300       0  \n",
       "4          0.2364                  0.07678       0  \n",
       "\n",
       "[5 rows x 31 columns]"
      ]
     },
     "execution_count": 92,
     "metadata": {},
     "output_type": "execute_result"
    }
   ],
   "source": [
    "# data = pd.read_csv(\"./data/tomatos_with_targets.txt\", index_col=0)\n",
    "# data.head()\n",
    "data = pd.read_csv(\"./data/breast_cancer.csv\")\n",
    "data.head()"
   ]
  },
  {
   "attachments": {},
   "cell_type": "markdown",
   "metadata": {},
   "source": [
    "## Setup"
   ]
  },
  {
   "attachments": {},
   "cell_type": "markdown",
   "metadata": {},
   "source": [
    "...If tomato dataset: \n",
    "We extracted multiple targets from the dataset and here we want to choose which one we decide to model and we discard the rest."
   ]
  },
  {
   "cell_type": "code",
   "execution_count": 93,
   "metadata": {},
   "outputs": [],
   "source": [
    "# Choose the target\n",
    "#target = 'species'\n",
    "target = 'target'\n",
    "\n",
    "# Targets\n",
    "#potential_targets = ['species','position','tissue','root']\n",
    "potential_targets = []\n",
    "# Remove other potential targets\n",
    "drop = list(set(potential_targets) - set([target]))\n",
    "data_model = data.drop(columns = drop, axis = 1)\n",
    "data_model.head()\n",
    "\n",
    "# Save only feature column names:\n",
    "feature_columns =  data_model.drop(columns=[target], axis=1).columns\n",
    "\n",
    "# Save X and y separately\n",
    "X = data_model.drop(target, axis=1)\n",
    "y = data_model[target]"
   ]
  },
  {
   "attachments": {},
   "cell_type": "markdown",
   "metadata": {},
   "source": [
    "Encode the labels: our labels are categorical and we need to encode them to have integer values. \n",
    "\n",
    "Scale the data: Regression models benefit from scaling the data."
   ]
  },
  {
   "cell_type": "code",
   "execution_count": 94,
   "metadata": {},
   "outputs": [
    {
     "name": "stdout",
     "output_type": "stream",
     "text": [
      "(array([0, 1]), array([212, 357]))\n",
      "(array([0, 1]), array([212, 357]))\n"
     ]
    }
   ],
   "source": [
    "# Encode labels if it is classification\n",
    "encoder = LabelEncoder()\n",
    "y = encoder.fit_transform(y)\n",
    "print(np.unique(data_model[target], return_counts=True))\n",
    "print(np.unique(y, return_counts=True))\n",
    "#Scale the data\n",
    "scaler = StandardScaler()\n",
    "X_transformed = scaler.fit_transform(X)"
   ]
  },
  {
   "cell_type": "code",
   "execution_count": 95,
   "metadata": {},
   "outputs": [
    {
     "data": {
      "text/plain": [
       "array([[ 1.09706398, -2.07333501,  1.26993369,  0.9843749 ,  1.56846633],\n",
       "       [ 1.82982061, -0.35363241,  1.68595471,  1.90870825, -0.82696245],\n",
       "       [ 1.57988811,  0.45618695,  1.56650313,  1.55888363,  0.94221044],\n",
       "       [-0.76890929,  0.25373211, -0.59268717, -0.76446379,  3.28355348],\n",
       "       [ 1.75029663, -1.15181643,  1.77657315,  1.82622928,  0.28037183]])"
      ]
     },
     "execution_count": 95,
     "metadata": {},
     "output_type": "execute_result"
    }
   ],
   "source": [
    "X_transformed[:5,:5]"
   ]
  },
  {
   "attachments": {},
   "cell_type": "markdown",
   "metadata": {},
   "source": [
    "## Modeling without taking stability into account\n",
    "Elastic net regression on the full dataset - How it is usually done? Usually, the lambda maximizing the accuracy is taken,..."
   ]
  },
  {
   "cell_type": "code",
   "execution_count": 96,
   "metadata": {},
   "outputs": [],
   "source": [
    "# Just for now..can't get elastic net to run w/o the convergence error \n",
    "import warnings\n",
    "warnings.filterwarnings('ignore')"
   ]
  },
  {
   "attachments": {},
   "cell_type": "markdown",
   "metadata": {},
   "source": [
    "Define the model:"
   ]
  },
  {
   "cell_type": "code",
   "execution_count": 97,
   "metadata": {},
   "outputs": [],
   "source": [
    "# model = LogisticRegression(penalty='l1', solver='liblinear',max_iter=300)\n",
    "# model_name = 'lasso'\n",
    "model = LogisticRegression(penalty = 'elasticnet', solver = 'saga', l1_ratio = 0.5, max_iter=1000)\n",
    "model_name = 'elasticnet'"
   ]
  },
  {
   "attachments": {},
   "cell_type": "markdown",
   "metadata": {},
   "source": [
    "Define the grid for the hyperparameter search:"
   ]
  },
  {
   "cell_type": "code",
   "execution_count": 98,
   "metadata": {},
   "outputs": [
    {
     "data": {
      "text/plain": [
       "{'C': array([0.01      , 0.01668101, 0.02782559, 0.04641589, 0.07742637,\n",
       "        0.12915497, 0.21544347, 0.35938137, 0.59948425, 1.        ])}"
      ]
     },
     "execution_count": 98,
     "metadata": {},
     "output_type": "execute_result"
    }
   ],
   "source": [
    "num_lambdas = 10 # We will test 10 parameters\n",
    "lambdas = np.linspace(-2,0,num_lambdas).astype(float)\n",
    "lambdas=np.power(10,lambdas)\n",
    "hyper_grid = {'C': lambdas}\n",
    "hyper_grid\n"
   ]
  },
  {
   "attachments": {},
   "cell_type": "markdown",
   "metadata": {},
   "source": [
    "Find the optimal parameter for Lasso:"
   ]
  },
  {
   "cell_type": "code",
   "execution_count": 99,
   "metadata": {},
   "outputs": [
    {
     "name": "stdout",
     "output_type": "stream",
     "text": [
      "Fitting 4 folds for each of 10 candidates, totalling 40 fits\n"
     ]
    },
    {
     "data": {
      "text/html": [
       "<style>#sk-container-id-8 {color: black;background-color: white;}#sk-container-id-8 pre{padding: 0;}#sk-container-id-8 div.sk-toggleable {background-color: white;}#sk-container-id-8 label.sk-toggleable__label {cursor: pointer;display: block;width: 100%;margin-bottom: 0;padding: 0.3em;box-sizing: border-box;text-align: center;}#sk-container-id-8 label.sk-toggleable__label-arrow:before {content: \"▸\";float: left;margin-right: 0.25em;color: #696969;}#sk-container-id-8 label.sk-toggleable__label-arrow:hover:before {color: black;}#sk-container-id-8 div.sk-estimator:hover label.sk-toggleable__label-arrow:before {color: black;}#sk-container-id-8 div.sk-toggleable__content {max-height: 0;max-width: 0;overflow: hidden;text-align: left;background-color: #f0f8ff;}#sk-container-id-8 div.sk-toggleable__content pre {margin: 0.2em;color: black;border-radius: 0.25em;background-color: #f0f8ff;}#sk-container-id-8 input.sk-toggleable__control:checked~div.sk-toggleable__content {max-height: 200px;max-width: 100%;overflow: auto;}#sk-container-id-8 input.sk-toggleable__control:checked~label.sk-toggleable__label-arrow:before {content: \"▾\";}#sk-container-id-8 div.sk-estimator input.sk-toggleable__control:checked~label.sk-toggleable__label {background-color: #d4ebff;}#sk-container-id-8 div.sk-label input.sk-toggleable__control:checked~label.sk-toggleable__label {background-color: #d4ebff;}#sk-container-id-8 input.sk-hidden--visually {border: 0;clip: rect(1px 1px 1px 1px);clip: rect(1px, 1px, 1px, 1px);height: 1px;margin: -1px;overflow: hidden;padding: 0;position: absolute;width: 1px;}#sk-container-id-8 div.sk-estimator {font-family: monospace;background-color: #f0f8ff;border: 1px dotted black;border-radius: 0.25em;box-sizing: border-box;margin-bottom: 0.5em;}#sk-container-id-8 div.sk-estimator:hover {background-color: #d4ebff;}#sk-container-id-8 div.sk-parallel-item::after {content: \"\";width: 100%;border-bottom: 1px solid gray;flex-grow: 1;}#sk-container-id-8 div.sk-label:hover label.sk-toggleable__label {background-color: #d4ebff;}#sk-container-id-8 div.sk-serial::before {content: \"\";position: absolute;border-left: 1px solid gray;box-sizing: border-box;top: 0;bottom: 0;left: 50%;z-index: 0;}#sk-container-id-8 div.sk-serial {display: flex;flex-direction: column;align-items: center;background-color: white;padding-right: 0.2em;padding-left: 0.2em;position: relative;}#sk-container-id-8 div.sk-item {position: relative;z-index: 1;}#sk-container-id-8 div.sk-parallel {display: flex;align-items: stretch;justify-content: center;background-color: white;position: relative;}#sk-container-id-8 div.sk-item::before, #sk-container-id-8 div.sk-parallel-item::before {content: \"\";position: absolute;border-left: 1px solid gray;box-sizing: border-box;top: 0;bottom: 0;left: 50%;z-index: -1;}#sk-container-id-8 div.sk-parallel-item {display: flex;flex-direction: column;z-index: 1;position: relative;background-color: white;}#sk-container-id-8 div.sk-parallel-item:first-child::after {align-self: flex-end;width: 50%;}#sk-container-id-8 div.sk-parallel-item:last-child::after {align-self: flex-start;width: 50%;}#sk-container-id-8 div.sk-parallel-item:only-child::after {width: 0;}#sk-container-id-8 div.sk-dashed-wrapped {border: 1px dashed gray;margin: 0 0.4em 0.5em 0.4em;box-sizing: border-box;padding-bottom: 0.4em;background-color: white;}#sk-container-id-8 div.sk-label label {font-family: monospace;font-weight: bold;display: inline-block;line-height: 1.2em;}#sk-container-id-8 div.sk-label-container {text-align: center;}#sk-container-id-8 div.sk-container {/* jupyter's `normalize.less` sets `[hidden] { display: none; }` but bootstrap.min.css set `[hidden] { display: none !important; }` so we also need the `!important` here to be able to override the default hidden behavior on the sphinx rendered scikit-learn.org. See: https://github.com/scikit-learn/scikit-learn/issues/21755 */display: inline-block !important;position: relative;}#sk-container-id-8 div.sk-text-repr-fallback {display: none;}</style><div id=\"sk-container-id-8\" class=\"sk-top-container\"><div class=\"sk-text-repr-fallback\"><pre>GridSearchCV(cv=StratifiedKFold(n_splits=4, random_state=None, shuffle=False),\n",
       "             estimator=LogisticRegression(l1_ratio=0.5, max_iter=1000,\n",
       "                                          penalty=&#x27;elasticnet&#x27;, solver=&#x27;saga&#x27;),\n",
       "             param_grid={&#x27;C&#x27;: array([0.01      , 0.01668101, 0.02782559, 0.04641589, 0.07742637,\n",
       "       0.12915497, 0.21544347, 0.35938137, 0.59948425, 1.        ])},\n",
       "             scoring=&#x27;accuracy&#x27;, verbose=1)</pre><b>In a Jupyter environment, please rerun this cell to show the HTML representation or trust the notebook. <br />On GitHub, the HTML representation is unable to render, please try loading this page with nbviewer.org.</b></div><div class=\"sk-container\" hidden><div class=\"sk-item sk-dashed-wrapped\"><div class=\"sk-label-container\"><div class=\"sk-label sk-toggleable\"><input class=\"sk-toggleable__control sk-hidden--visually\" id=\"sk-estimator-id-12\" type=\"checkbox\" ><label for=\"sk-estimator-id-12\" class=\"sk-toggleable__label sk-toggleable__label-arrow\">GridSearchCV</label><div class=\"sk-toggleable__content\"><pre>GridSearchCV(cv=StratifiedKFold(n_splits=4, random_state=None, shuffle=False),\n",
       "             estimator=LogisticRegression(l1_ratio=0.5, max_iter=1000,\n",
       "                                          penalty=&#x27;elasticnet&#x27;, solver=&#x27;saga&#x27;),\n",
       "             param_grid={&#x27;C&#x27;: array([0.01      , 0.01668101, 0.02782559, 0.04641589, 0.07742637,\n",
       "       0.12915497, 0.21544347, 0.35938137, 0.59948425, 1.        ])},\n",
       "             scoring=&#x27;accuracy&#x27;, verbose=1)</pre></div></div></div><div class=\"sk-parallel\"><div class=\"sk-parallel-item\"><div class=\"sk-item\"><div class=\"sk-label-container\"><div class=\"sk-label sk-toggleable\"><input class=\"sk-toggleable__control sk-hidden--visually\" id=\"sk-estimator-id-13\" type=\"checkbox\" ><label for=\"sk-estimator-id-13\" class=\"sk-toggleable__label sk-toggleable__label-arrow\">estimator: LogisticRegression</label><div class=\"sk-toggleable__content\"><pre>LogisticRegression(l1_ratio=0.5, max_iter=1000, penalty=&#x27;elasticnet&#x27;,\n",
       "                   solver=&#x27;saga&#x27;)</pre></div></div></div><div class=\"sk-serial\"><div class=\"sk-item\"><div class=\"sk-estimator sk-toggleable\"><input class=\"sk-toggleable__control sk-hidden--visually\" id=\"sk-estimator-id-14\" type=\"checkbox\" ><label for=\"sk-estimator-id-14\" class=\"sk-toggleable__label sk-toggleable__label-arrow\">LogisticRegression</label><div class=\"sk-toggleable__content\"><pre>LogisticRegression(l1_ratio=0.5, max_iter=1000, penalty=&#x27;elasticnet&#x27;,\n",
       "                   solver=&#x27;saga&#x27;)</pre></div></div></div></div></div></div></div></div></div></div>"
      ],
      "text/plain": [
       "GridSearchCV(cv=StratifiedKFold(n_splits=4, random_state=None, shuffle=False),\n",
       "             estimator=LogisticRegression(l1_ratio=0.5, max_iter=1000,\n",
       "                                          penalty='elasticnet', solver='saga'),\n",
       "             param_grid={'C': array([0.01      , 0.01668101, 0.02782559, 0.04641589, 0.07742637,\n",
       "       0.12915497, 0.21544347, 0.35938137, 0.59948425, 1.        ])},\n",
       "             scoring='accuracy', verbose=1)"
      ]
     },
     "execution_count": 99,
     "metadata": {},
     "output_type": "execute_result"
    }
   ],
   "source": [
    "# Define a grid search with 10-fold CV and fit \n",
    "gridsearch_classifier = GridSearchCV(model, hyper_grid, cv=StratifiedKFold(n_splits=4), verbose=1, scoring='accuracy')\n",
    "gridsearch_classifier.fit(X_transformed, y)"
   ]
  },
  {
   "cell_type": "code",
   "execution_count": 100,
   "metadata": {},
   "outputs": [
    {
     "data": {
      "text/plain": [
       "{'mean_fit_time': array([0.00666076, 0.0070793 , 0.00876832, 0.01258868, 0.01990551,\n",
       "        0.02582604, 0.03544575, 0.04977745, 0.06696051, 0.09759128]),\n",
       " 'std_fit_time': array([0.00099399, 0.00041851, 0.00030001, 0.00031306, 0.00083134,\n",
       "        0.00178889, 0.00258902, 0.00293165, 0.00669359, 0.00936451]),\n",
       " 'mean_score_time': array([0.00055945, 0.00098884, 0.00050646, 0.00048637, 0.00051475,\n",
       "        0.00048321, 0.000521  , 0.00052279, 0.00054306, 0.00056416]),\n",
       " 'std_score_time': array([4.42549134e-05, 5.94136289e-04, 5.14173242e-05, 4.97127036e-05,\n",
       "        2.75190197e-05, 2.37549001e-05, 3.80471440e-05, 3.29657874e-05,\n",
       "        4.26673928e-05, 2.46087793e-05]),\n",
       " 'param_C': masked_array(data=[0.01, 0.016681005372000592, 0.027825594022071243,\n",
       "                    0.046415888336127774, 0.0774263682681127,\n",
       "                    0.1291549665014884, 0.21544346900318834,\n",
       "                    0.3593813663804626, 0.5994842503189409, 1.0],\n",
       "              mask=[False, False, False, False, False, False, False, False,\n",
       "                    False, False],\n",
       "        fill_value='?',\n",
       "             dtype=object),\n",
       " 'params': [{'C': 0.01},\n",
       "  {'C': 0.016681005372000592},\n",
       "  {'C': 0.027825594022071243},\n",
       "  {'C': 0.046415888336127774},\n",
       "  {'C': 0.0774263682681127},\n",
       "  {'C': 0.1291549665014884},\n",
       "  {'C': 0.21544346900318834},\n",
       "  {'C': 0.3593813663804626},\n",
       "  {'C': 0.5994842503189409},\n",
       "  {'C': 1.0}],\n",
       " 'split0_test_score': array([0.86713287, 0.88811189, 0.92307692, 0.95104895, 0.95804196,\n",
       "        0.96503497, 0.97202797, 0.97902098, 0.97902098, 0.97902098]),\n",
       " 'split1_test_score': array([0.8943662 , 0.92253521, 0.93661972, 0.95774648, 0.96478873,\n",
       "        0.97887324, 0.98591549, 0.97887324, 0.98591549, 0.97887324]),\n",
       " 'split2_test_score': array([0.92253521, 0.93661972, 0.96478873, 0.97183099, 0.97183099,\n",
       "        0.96478873, 0.95774648, 0.95774648, 0.97183099, 0.97183099]),\n",
       " 'split3_test_score': array([0.95774648, 0.96478873, 0.96478873, 0.97887324, 0.97887324,\n",
       "        0.98591549, 0.98591549, 0.98591549, 0.98591549, 0.98591549]),\n",
       " 'mean_test_score': array([0.91044519, 0.92801389, 0.94731853, 0.96487491, 0.96838373,\n",
       "        0.97365311, 0.97540136, 0.97538905, 0.98067074, 0.97891017]),\n",
       " 'std_test_score': array([0.0336083 , 0.02760722, 0.01811447, 0.01102624, 0.00777479,\n",
       "        0.00908935, 0.01166371, 0.01057588, 0.00582833, 0.00498004]),\n",
       " 'rank_test_score': array([10,  9,  8,  7,  6,  5,  3,  4,  1,  2], dtype=int32)}"
      ]
     },
     "execution_count": 100,
     "metadata": {},
     "output_type": "execute_result"
    }
   ],
   "source": [
    "gridsearch_classifier.cv_results_"
   ]
  },
  {
   "cell_type": "code",
   "execution_count": 101,
   "metadata": {},
   "outputs": [
    {
     "name": "stdout",
     "output_type": "stream",
     "text": [
      "[{'C': 0.01}, {'C': 0.016681005372000592}, {'C': 0.027825594022071243}, {'C': 0.046415888336127774}, {'C': 0.0774263682681127}, {'C': 0.1291549665014884}, {'C': 0.21544346900318834}, {'C': 0.3593813663804626}, {'C': 0.5994842503189409}, {'C': 1.0}]\n",
      "Average accuracy: 96.03%\n"
     ]
    }
   ],
   "source": [
    "print(gridsearch_classifier.cv_results_['params'])\n",
    "print(f\"Average accuracy: {round(np.mean(gridsearch_classifier.cv_results_['mean_test_score'])*100,2)}%\")"
   ]
  },
  {
   "cell_type": "code",
   "execution_count": 102,
   "metadata": {},
   "outputs": [
    {
     "name": "stdout",
     "output_type": "stream",
     "text": [
      "Chosen parameter {'C': 0.5994842503189409}\n"
     ]
    }
   ],
   "source": [
    "C = gridsearch_classifier.best_params_\n",
    "print(f\"Chosen parameter {C}\")"
   ]
  },
  {
   "attachments": {},
   "cell_type": "markdown",
   "metadata": {},
   "source": [
    "## Stability analysis\n",
    "### Optimizing Stability and Accuracy of Regularized Methods"
   ]
  },
  {
   "cell_type": "code",
   "execution_count": 103,
   "metadata": {},
   "outputs": [
    {
     "name": "stdout",
     "output_type": "stream",
     "text": [
      "[0.01       0.01668101 0.02782559 0.04641589 0.07742637 0.12915497\n",
      " 0.21544347 0.35938137 0.59948425 1.        ]\n"
     ]
    }
   ],
   "source": [
    "#num_lambdas=10\n",
    "#lambdas=np.linspace(-3,-1,num_lambdas)\n",
    "#lambdas=np.power(10,lambdas) \n",
    "print(lambdas)\n",
    "M = 10\n",
    "d = X.shape[1]"
   ]
  },
  {
   "cell_type": "code",
   "execution_count": 104,
   "metadata": {},
   "outputs": [],
   "source": [
    "Z=np.zeros((num_lambdas,M,d),dtype=np.int8)\n",
    "errors=np.zeros((M,num_lambdas))\n",
    "stabilities=np.zeros(num_lambdas)\n",
    "errStab=np.zeros(num_lambdas)\n",
    "numFeatSelected=np.zeros((M,num_lambdas),dtype=np.int32)"
   ]
  },
  {
   "attachments": {},
   "cell_type": "markdown",
   "metadata": {},
   "source": [
    "We apply L1-logistic regression with different regularizing parameters lambda on M bootstrap samples of the data using the scikit-learn package. We report the stability as given in [1] and the average out-of-bag (OOB) error over the M repeats.\n",
    "\n"
   ]
  },
  {
   "cell_type": "code",
   "execution_count": 105,
   "metadata": {},
   "outputs": [],
   "source": [
    "from utils_ import getBootstrapSample"
   ]
  },
  {
   "cell_type": "code",
   "execution_count": 106,
   "metadata": {},
   "outputs": [
    {
     "name": "stderr",
     "output_type": "stream",
     "text": [
      "100%|██████████| 10/10 [00:04<00:00,  2.16it/s]\n"
     ]
    }
   ],
   "source": [
    "## for each repeat\n",
    "for i in tqdm(range(M)):\n",
    "    newData=getBootstrapSample(np.asarray(X_transformed),np.asarray(y), random_state=(i+1)*10+1234) ## we get a bootstrap sample\n",
    "    for k in range(num_lambdas):\n",
    "        logistic = LogisticRegression(penalty = 'elasticnet', solver = 'saga', l1_ratio = 0.5, C=lambdas[k], max_iter=1000, random_state=(i+1)*10+12345)\n",
    "        logistic.fit(newData['bootData'],newData['bootLabels'])  ## we fit the coefficients \n",
    "        Z[k,i,:]=sum(logistic.coef_!=0)\n",
    "        numFeatSelected[i,k]=sum(sum(logistic.coef_!=0))\n",
    "        predLabels=logistic.predict(newData['OOBData'])\n",
    "        errors[i,k]=1-accuracy_score(newData['OOBLabels'], predLabels)\n",
    "meanError=np.mean(errors,0)\n",
    "#errCI=norm.ppf(1-alpha/2)*(np.std(errors,0))/math.sqrt(M)"
   ]
  },
  {
   "attachments": {},
   "cell_type": "markdown",
   "metadata": {},
   "source": [
    "To better understand what is saved in each object, let's check their size and how the results look like:"
   ]
  },
  {
   "cell_type": "code",
   "execution_count": 107,
   "metadata": {},
   "outputs": [
    {
     "name": "stdout",
     "output_type": "stream",
     "text": [
      "Errors (10, 10)\n",
      "numfeatselected (10, 10)\n",
      "Z (10, 10, 30)\n"
     ]
    }
   ],
   "source": [
    "print(f'Errors {errors.shape}')\n",
    "print(f'numfeatselected {numFeatSelected.shape}')\n",
    "print(f'Z {Z.shape}')"
   ]
  },
  {
   "cell_type": "code",
   "execution_count": 108,
   "metadata": {},
   "outputs": [],
   "source": [
    "Z_dict = {}\n",
    "for i in range(Z.shape[0]):\n",
    "    Z_dict[lambdas[i]] = pd.DataFrame(Z[i, :,:], columns=X.columns)"
   ]
  },
  {
   "cell_type": "code",
   "execution_count": 109,
   "metadata": {},
   "outputs": [
    {
     "name": "stdout",
     "output_type": "stream",
     "text": [
      "For lambda = 0.01, results look like follows:\n"
     ]
    },
    {
     "data": {
      "text/html": [
       "<div>\n",
       "<style scoped>\n",
       "    .dataframe tbody tr th:only-of-type {\n",
       "        vertical-align: middle;\n",
       "    }\n",
       "\n",
       "    .dataframe tbody tr th {\n",
       "        vertical-align: top;\n",
       "    }\n",
       "\n",
       "    .dataframe thead th {\n",
       "        text-align: right;\n",
       "    }\n",
       "</style>\n",
       "<table border=\"1\" class=\"dataframe\">\n",
       "  <thead>\n",
       "    <tr style=\"text-align: right;\">\n",
       "      <th></th>\n",
       "      <th>mean radius</th>\n",
       "      <th>mean texture</th>\n",
       "      <th>mean perimeter</th>\n",
       "      <th>mean area</th>\n",
       "      <th>mean smoothness</th>\n",
       "      <th>mean compactness</th>\n",
       "      <th>mean concavity</th>\n",
       "      <th>mean concave points</th>\n",
       "      <th>mean symmetry</th>\n",
       "      <th>mean fractal dimension</th>\n",
       "      <th>...</th>\n",
       "      <th>worst radius</th>\n",
       "      <th>worst texture</th>\n",
       "      <th>worst perimeter</th>\n",
       "      <th>worst area</th>\n",
       "      <th>worst smoothness</th>\n",
       "      <th>worst compactness</th>\n",
       "      <th>worst concavity</th>\n",
       "      <th>worst concave points</th>\n",
       "      <th>worst symmetry</th>\n",
       "      <th>worst fractal dimension</th>\n",
       "    </tr>\n",
       "  </thead>\n",
       "  <tbody>\n",
       "    <tr>\n",
       "      <th>0</th>\n",
       "      <td>1</td>\n",
       "      <td>0</td>\n",
       "      <td>1</td>\n",
       "      <td>1</td>\n",
       "      <td>0</td>\n",
       "      <td>0</td>\n",
       "      <td>1</td>\n",
       "      <td>1</td>\n",
       "      <td>0</td>\n",
       "      <td>0</td>\n",
       "      <td>...</td>\n",
       "      <td>1</td>\n",
       "      <td>1</td>\n",
       "      <td>1</td>\n",
       "      <td>1</td>\n",
       "      <td>1</td>\n",
       "      <td>0</td>\n",
       "      <td>1</td>\n",
       "      <td>1</td>\n",
       "      <td>0</td>\n",
       "      <td>0</td>\n",
       "    </tr>\n",
       "    <tr>\n",
       "      <th>1</th>\n",
       "      <td>1</td>\n",
       "      <td>0</td>\n",
       "      <td>1</td>\n",
       "      <td>1</td>\n",
       "      <td>0</td>\n",
       "      <td>0</td>\n",
       "      <td>1</td>\n",
       "      <td>1</td>\n",
       "      <td>0</td>\n",
       "      <td>0</td>\n",
       "      <td>...</td>\n",
       "      <td>1</td>\n",
       "      <td>1</td>\n",
       "      <td>1</td>\n",
       "      <td>1</td>\n",
       "      <td>1</td>\n",
       "      <td>1</td>\n",
       "      <td>1</td>\n",
       "      <td>1</td>\n",
       "      <td>0</td>\n",
       "      <td>0</td>\n",
       "    </tr>\n",
       "    <tr>\n",
       "      <th>2</th>\n",
       "      <td>1</td>\n",
       "      <td>0</td>\n",
       "      <td>1</td>\n",
       "      <td>1</td>\n",
       "      <td>0</td>\n",
       "      <td>0</td>\n",
       "      <td>1</td>\n",
       "      <td>1</td>\n",
       "      <td>0</td>\n",
       "      <td>0</td>\n",
       "      <td>...</td>\n",
       "      <td>1</td>\n",
       "      <td>1</td>\n",
       "      <td>1</td>\n",
       "      <td>1</td>\n",
       "      <td>1</td>\n",
       "      <td>1</td>\n",
       "      <td>1</td>\n",
       "      <td>1</td>\n",
       "      <td>0</td>\n",
       "      <td>0</td>\n",
       "    </tr>\n",
       "    <tr>\n",
       "      <th>3</th>\n",
       "      <td>1</td>\n",
       "      <td>0</td>\n",
       "      <td>1</td>\n",
       "      <td>1</td>\n",
       "      <td>0</td>\n",
       "      <td>0</td>\n",
       "      <td>1</td>\n",
       "      <td>1</td>\n",
       "      <td>0</td>\n",
       "      <td>0</td>\n",
       "      <td>...</td>\n",
       "      <td>1</td>\n",
       "      <td>1</td>\n",
       "      <td>1</td>\n",
       "      <td>1</td>\n",
       "      <td>1</td>\n",
       "      <td>0</td>\n",
       "      <td>1</td>\n",
       "      <td>1</td>\n",
       "      <td>0</td>\n",
       "      <td>0</td>\n",
       "    </tr>\n",
       "    <tr>\n",
       "      <th>4</th>\n",
       "      <td>1</td>\n",
       "      <td>0</td>\n",
       "      <td>1</td>\n",
       "      <td>1</td>\n",
       "      <td>0</td>\n",
       "      <td>0</td>\n",
       "      <td>1</td>\n",
       "      <td>1</td>\n",
       "      <td>0</td>\n",
       "      <td>0</td>\n",
       "      <td>...</td>\n",
       "      <td>1</td>\n",
       "      <td>1</td>\n",
       "      <td>1</td>\n",
       "      <td>1</td>\n",
       "      <td>1</td>\n",
       "      <td>1</td>\n",
       "      <td>1</td>\n",
       "      <td>1</td>\n",
       "      <td>1</td>\n",
       "      <td>0</td>\n",
       "    </tr>\n",
       "  </tbody>\n",
       "</table>\n",
       "<p>5 rows × 30 columns</p>\n",
       "</div>"
      ],
      "text/plain": [
       "   mean radius  mean texture  mean perimeter  mean area  mean smoothness  \\\n",
       "0            1             0               1          1                0   \n",
       "1            1             0               1          1                0   \n",
       "2            1             0               1          1                0   \n",
       "3            1             0               1          1                0   \n",
       "4            1             0               1          1                0   \n",
       "\n",
       "   mean compactness  mean concavity  mean concave points  mean symmetry  \\\n",
       "0                 0               1                    1              0   \n",
       "1                 0               1                    1              0   \n",
       "2                 0               1                    1              0   \n",
       "3                 0               1                    1              0   \n",
       "4                 0               1                    1              0   \n",
       "\n",
       "   mean fractal dimension  ...  worst radius  worst texture  worst perimeter  \\\n",
       "0                       0  ...             1              1                1   \n",
       "1                       0  ...             1              1                1   \n",
       "2                       0  ...             1              1                1   \n",
       "3                       0  ...             1              1                1   \n",
       "4                       0  ...             1              1                1   \n",
       "\n",
       "   worst area  worst smoothness  worst compactness  worst concavity  \\\n",
       "0           1                 1                  0                1   \n",
       "1           1                 1                  1                1   \n",
       "2           1                 1                  1                1   \n",
       "3           1                 1                  0                1   \n",
       "4           1                 1                  1                1   \n",
       "\n",
       "   worst concave points  worst symmetry  worst fractal dimension  \n",
       "0                     1               0                        0  \n",
       "1                     1               0                        0  \n",
       "2                     1               0                        0  \n",
       "3                     1               0                        0  \n",
       "4                     1               1                        0  \n",
       "\n",
       "[5 rows x 30 columns]"
      ]
     },
     "execution_count": 109,
     "metadata": {},
     "output_type": "execute_result"
    }
   ],
   "source": [
    "index = 0\n",
    "print(f'For lambda = {lambdas[index]}, results look like follows:')\n",
    "Z_dict[lambdas[index]].head()"
   ]
  },
  {
   "attachments": {},
   "cell_type": "markdown",
   "metadata": {},
   "source": [
    "Lambda vs. number of features chosen:"
   ]
  },
  {
   "cell_type": "code",
   "execution_count": 110,
   "metadata": {},
   "outputs": [
    {
     "data": {
      "image/png": "[encoded data removed]",
      "text/plain": [
       "<Figure size 640x480 with 1 Axes>"
      ]
     },
     "metadata": {},
     "output_type": "display_data"
    }
   ],
   "source": [
    "plt.close()\n",
    "plt.figure()\n",
    "plt.plot(lambdas,np.mean(numFeatSelected,0),marker='o', linestyle='--')\n",
    "plt.xlabel('lambda')\n",
    "plt.ylabel('num. Features selected')\n",
    "plt.title('Number of Features selected against Lambda')\n",
    "plt.show()"
   ]
  },
  {
   "attachments": {},
   "cell_type": "markdown",
   "metadata": {},
   "source": [
    "As we expect, the number of features selected decreases as we increase the regularization.\n",
    "Let us now plot the average OOB error against lambda"
   ]
  },
  {
   "cell_type": "code",
   "execution_count": 111,
   "metadata": {},
   "outputs": [
    {
     "data": {
      "image/png": "[encoded data removed]",
      "text/plain": [
       "<Figure size 640x480 with 1 Axes>"
      ]
     },
     "metadata": {},
     "output_type": "display_data"
    }
   ],
   "source": [
    "plt.close()\n",
    "plt.figure()\n",
    "plt.plot(lambdas,np.mean(errors,0),marker='o', linestyle='--')\n",
    "plt.xlabel('lambda')\n",
    "plt.ylabel('Av. error')\n",
    "plt.title('Average OOB Error')\n",
    "plt.show()"
   ]
  },
  {
   "cell_type": "code",
   "execution_count": 112,
   "metadata": {},
   "outputs": [],
   "source": [
    "for k in range(num_lambdas):\n",
    "    res=st.confidenceIntervals(Z[k,:,:],alpha=0.05) ## we get the confidence intervals using the stability package\n",
    "    stabilities[k]=res['stability']\n",
    "    errStab[k]=stabilities[k]-res['lower']"
   ]
  },
  {
   "cell_type": "code",
   "execution_count": 113,
   "metadata": {},
   "outputs": [
    {
     "data": {
      "text/plain": [
       "array([0.87887597, 0.86962963, 0.90159241, 0.85484474, 0.82392479,\n",
       "       0.7322294 , 0.7633945 , 0.66666667, 0.46583851, 0.3237552 ])"
      ]
     },
     "execution_count": 113,
     "metadata": {},
     "output_type": "execute_result"
    }
   ],
   "source": [
    "stabilities"
   ]
  },
  {
   "cell_type": "code",
   "execution_count": 114,
   "metadata": {},
   "outputs": [
    {
     "data": {
      "image/png": "[encoded data removed]",
      "text/plain": [
       "<Figure size 640x480 with 1 Axes>"
      ]
     },
     "metadata": {},
     "output_type": "display_data"
    }
   ],
   "source": [
    "plt.close()\n",
    "plt.figure()\n",
    "plt.errorbar(lambdas,stabilities,yerr=errStab,marker='o', linestyle='--')\n",
    "plt.xlabel('lambda')\n",
    "plt.ylabel('Stability')\n",
    "plt.title('Stability against Lambda')\n",
    "plt.show()"
   ]
  },
  {
   "cell_type": "code",
   "execution_count": 115,
   "metadata": {},
   "outputs": [
    {
     "name": "stdout",
     "output_type": "stream",
     "text": [
      "--- lambda = 0.027825594022071243 ---\n",
      "Stability is maximal = 90.16%. \n",
      "Average Number of features selected for this lambda across 10 iterations is 20.1. \n",
      "Average OOB error is 0.0469387755102041\n",
      "\n",
      "\n",
      "--- lambda (grid search) = 0.5994842503189409 ---\n",
      "Stability = 46.58%. \n",
      "Average Number of features selected for this lambda across 10 iterations is 17.2. \n",
      "Average OOB error is 0.031455399061032875\n"
     ]
    }
   ],
   "source": [
    "best_index = np.nanargmax(stabilities)\n",
    "gridsearch_index = np.where(lambdas == gridsearch_classifier.best_params_['C'])[0][0]\n",
    "\n",
    "print(f\"--- lambda = {lambdas[best_index]} ---\")\n",
    "print(f'Stability is maximal = {round(stabilities[best_index]*100,2)}%. \\nAverage Number of features selected for this lambda across {M} iterations is {np.mean(numFeatSelected[best_index])}. \\nAverage OOB error is {np.mean(errors[best_index])}')\n",
    "print('\\n')\n",
    "print(f\"--- lambda (grid search) = {gridsearch_classifier.best_params_['C']} ---\")\n",
    "print(f'Stability = {round(stabilities[gridsearch_index]*100,2)}%. \\nAverage Number of features selected for this lambda across {M} iterations is {np.mean(numFeatSelected[gridsearch_index])}. \\nAverage OOB error is {np.mean(errors[gridsearch_index])}')\n"
   ]
  },
  {
   "attachments": {},
   "cell_type": "markdown",
   "metadata": {},
   "source": [
    "As we can see from these figures, the value of the regularizing parameter that yields the maximal stability (out of the 10 regularizing parameters chosen) is not the one yielding the minimum error. Here, a trade-off between error and stability needs to chosen.\n",
    "Nevertheless, we can see that making a small sacrife in terms of accuracy can largely improve stability."
   ]
  },
  {
   "attachments": {},
   "cell_type": "markdown",
   "metadata": {},
   "source": [
    "## Potential next steps\n",
    "\n",
    "Now that we analysed which hyperparameter(s) might be good for fitting our model and what is the effect of it on the stability, we can choose how to proceed with the analysis. This, of course, depends on our goal and we will cover two possible options:\n",
    "\n",
    "1. You wish to have a trained model with coefficients that you want to reuse on the unseen data\n",
    "2. You wish to decide on the final reduced set of features that will enter some other statistical analysis (e.g. the set of chosen genes will be selected for further inspection to seach for clinical signal or a doctor should pay extra attention to selected variables when assessing the patient.)"
   ]
  },
  {
   "attachments": {},
   "cell_type": "markdown",
   "metadata": {},
   "source": [
    "### Option 1 - training the model by using newly gained knowledge"
   ]
  },
  {
   "attachments": {},
   "cell_type": "markdown",
   "metadata": {},
   "source": [
    "Now that we know much more about the effect of the regularization parameter on both accuracy and stability of the model and feature selection, we need to decide whether we are ready to accept the aforementioned trade-off between accuracy and stability, i.e., decide if we want to lose a bit of accuracy for the sake of more stable model.\n",
    "...TBA..."
   ]
  },
  {
   "cell_type": "code",
   "execution_count": 116,
   "metadata": {},
   "outputs": [],
   "source": [
    "# # Train test split\n",
    "# X_train, X_test, y_train, y_test = train_test_split(\n",
    "#     data_model.drop(columns=[target], axis=1),\n",
    "#     data_model[target], stratify = data_model[target],\n",
    "#     test_size=0.2,\n",
    "#     random_state=444)\n",
    "\n",
    "# # Train - validation split\n",
    "# X_train, X_valid, y_train, y_valid = train_test_split(\n",
    "#     X_train,\n",
    "#     y_train, stratify = y_train,\n",
    "#     test_size=0.2,\n",
    "#     random_state=234)\n",
    "\n",
    "# print(f\"X train: {X_train.shape}, X test: {X_test.shape}, X valid: {X_valid.shape}\")\n",
    "# print(f\"y train: {y_train.shape}, y test: {y_test.shape}, y valid: {y_valid.shape}\")\n",
    "# print(f\"y train values: {np.unique(y_train, return_counts=True)}\")\n",
    "# print(f\"y test values: {np.unique(y_test, return_counts=True)}\")\n",
    "\n",
    "# # Encode labels\n",
    "# encoder = LabelEncoder()\n",
    "# y_train = encoder.fit_transform(y_train)\n",
    "# y_test = encoder.transform(y_test)\n",
    "\n",
    "# print(\"Encoding check:\")\n",
    "# print(np.unique(y_train, return_counts=True))\n",
    "# print(np.unique(y_test, return_counts=True))\n",
    "\n",
    "# # Scale the data\n",
    "# scaler = StandardScaler()\n",
    "# X_train_transformed = scaler.fit_transform(X_train)\n",
    "# X_test_transformed = scaler.transform(X_test)\n",
    "# X_valid_transformed = scaler.transform(X_valid)\n"
   ]
  },
  {
   "cell_type": "code",
   "execution_count": 117,
   "metadata": {},
   "outputs": [],
   "source": [
    "# # Define a model\n",
    "# model = LogisticRegression(penalty = 'elasticnet', \n",
    "#                            solver = 'saga', \n",
    "#                            l1_ratio = 0.5, \n",
    "#                            C = lambdas[best_index], \n",
    "#                            max_iter=1000, \n",
    "#                            random_state=12345)\n",
    "\n",
    "# model_grid = LogisticRegression(penalty = 'elasticnet', \n",
    "#                                 solver = 'saga', \n",
    "#                                 l1_ratio = 0.5, \n",
    "#                                 C = lambdas[gridsearch_index],\n",
    "#                                 max_iter=1000, \n",
    "#                                 random_state=12345)"
   ]
  },
  {
   "cell_type": "code",
   "execution_count": 118,
   "metadata": {},
   "outputs": [],
   "source": [
    "# oob_scorer = lambda y_test, y_pred: 1-accuracy_score(y_test, y_pred)\n",
    "# my_scorer = make_scorer(oob_scorer, greater_is_better=False) # Smaller OOB error means better model\n",
    "\n",
    "# # Run cross_val_score\n",
    "# print(f\"Average accuracy across 4-fold cv: {round(np.mean(cross_val_score(model, X_train_transformed, y_train, \n",
    "#                                                                           cv=4, scoring='accuracy'))*100,2)}%\")"
   ]
  },
  {
   "attachments": {},
   "cell_type": "markdown",
   "metadata": {},
   "source": [
    "What if we fit with the grid-search index?"
   ]
  },
  {
   "cell_type": "code",
   "execution_count": 119,
   "metadata": {},
   "outputs": [],
   "source": [
    "# oob_scorer = lambda y_test, y_pred: 1-accuracy_score(y_test, y_pred)\n",
    "# my_scorer = make_scorer(oob_scorer, greater_is_better=False) # Smaller OOB error means better model\n",
    "\n",
    "# # Run cross_val_score\n",
    "# print(f\"Average accuracy across 4-fold cv: {round(np.mean(cross_val_score(model_grid, X_train_transformed, y_train,\n",
    "#                                                                           cv=4, scoring='accuracy'))*100,2)}%\")\n"
   ]
  },
  {
   "attachments": {},
   "cell_type": "markdown",
   "metadata": {},
   "source": [
    "### Option 2 - selecting final set of features"
   ]
  },
  {
   "attachments": {},
   "cell_type": "markdown",
   "metadata": {},
   "source": [
    "Stability selector paper: \n",
    "\n",
    "**set of stable features** = set of all the features having a frequency of selection higher than some user defined threshold for __at least__ one of the regularizing parameteres lambda from lambdas"
   ]
  },
  {
   "cell_type": "code",
   "execution_count": 120,
   "metadata": {},
   "outputs": [],
   "source": [
    "for i in range(len(lambdas)):\n",
    "    Z_i = Z_dict[lambdas[i]]\n",
    "    if i==0:\n",
    "        count_per_feature = pd.DataFrame(Z_i.sum(axis=0), columns=['lambda_'+str(i)])\n",
    "    else:\n",
    "        count_per_feature = pd.concat([count_per_feature, pd.DataFrame(Z_i.sum(axis=0), columns=['lambda_'+str(i+1)])], axis=1)\n",
    "count_per_feature['total'] = count_per_feature.sum(axis=1)\n",
    "count_per_feature.sort_values(by='total', ascending=False, inplace=True)"
   ]
  },
  {
   "cell_type": "code",
   "execution_count": 121,
   "metadata": {},
   "outputs": [
    {
     "data": {
      "text/html": [
       "<div>\n",
       "<style scoped>\n",
       "    .dataframe tbody tr th:only-of-type {\n",
       "        vertical-align: middle;\n",
       "    }\n",
       "\n",
       "    .dataframe tbody tr th {\n",
       "        vertical-align: top;\n",
       "    }\n",
       "\n",
       "    .dataframe thead th {\n",
       "        text-align: right;\n",
       "    }\n",
       "</style>\n",
       "<table border=\"1\" class=\"dataframe\">\n",
       "  <thead>\n",
       "    <tr style=\"text-align: right;\">\n",
       "      <th></th>\n",
       "      <th>lambda_0</th>\n",
       "      <th>lambda_2</th>\n",
       "      <th>lambda_3</th>\n",
       "      <th>lambda_4</th>\n",
       "      <th>lambda_5</th>\n",
       "      <th>lambda_6</th>\n",
       "      <th>lambda_7</th>\n",
       "      <th>lambda_8</th>\n",
       "      <th>lambda_9</th>\n",
       "      <th>lambda_10</th>\n",
       "      <th>total</th>\n",
       "    </tr>\n",
       "  </thead>\n",
       "  <tbody>\n",
       "    <tr>\n",
       "      <th>worst radius</th>\n",
       "      <td>10</td>\n",
       "      <td>10</td>\n",
       "      <td>10</td>\n",
       "      <td>10</td>\n",
       "      <td>10</td>\n",
       "      <td>10</td>\n",
       "      <td>10</td>\n",
       "      <td>10</td>\n",
       "      <td>10</td>\n",
       "      <td>10</td>\n",
       "      <td>100</td>\n",
       "    </tr>\n",
       "    <tr>\n",
       "      <th>mean concave points</th>\n",
       "      <td>10</td>\n",
       "      <td>10</td>\n",
       "      <td>10</td>\n",
       "      <td>10</td>\n",
       "      <td>10</td>\n",
       "      <td>10</td>\n",
       "      <td>10</td>\n",
       "      <td>10</td>\n",
       "      <td>10</td>\n",
       "      <td>10</td>\n",
       "      <td>100</td>\n",
       "    </tr>\n",
       "    <tr>\n",
       "      <th>worst perimeter</th>\n",
       "      <td>10</td>\n",
       "      <td>10</td>\n",
       "      <td>10</td>\n",
       "      <td>10</td>\n",
       "      <td>10</td>\n",
       "      <td>10</td>\n",
       "      <td>10</td>\n",
       "      <td>10</td>\n",
       "      <td>10</td>\n",
       "      <td>10</td>\n",
       "      <td>100</td>\n",
       "    </tr>\n",
       "    <tr>\n",
       "      <th>worst area</th>\n",
       "      <td>10</td>\n",
       "      <td>10</td>\n",
       "      <td>10</td>\n",
       "      <td>10</td>\n",
       "      <td>10</td>\n",
       "      <td>10</td>\n",
       "      <td>10</td>\n",
       "      <td>10</td>\n",
       "      <td>10</td>\n",
       "      <td>10</td>\n",
       "      <td>100</td>\n",
       "    </tr>\n",
       "    <tr>\n",
       "      <th>worst concave points</th>\n",
       "      <td>10</td>\n",
       "      <td>10</td>\n",
       "      <td>10</td>\n",
       "      <td>10</td>\n",
       "      <td>10</td>\n",
       "      <td>10</td>\n",
       "      <td>10</td>\n",
       "      <td>10</td>\n",
       "      <td>10</td>\n",
       "      <td>10</td>\n",
       "      <td>100</td>\n",
       "    </tr>\n",
       "    <tr>\n",
       "      <th>worst concavity</th>\n",
       "      <td>10</td>\n",
       "      <td>10</td>\n",
       "      <td>10</td>\n",
       "      <td>10</td>\n",
       "      <td>10</td>\n",
       "      <td>10</td>\n",
       "      <td>10</td>\n",
       "      <td>10</td>\n",
       "      <td>10</td>\n",
       "      <td>10</td>\n",
       "      <td>100</td>\n",
       "    </tr>\n",
       "    <tr>\n",
       "      <th>worst texture</th>\n",
       "      <td>9</td>\n",
       "      <td>10</td>\n",
       "      <td>10</td>\n",
       "      <td>10</td>\n",
       "      <td>10</td>\n",
       "      <td>10</td>\n",
       "      <td>10</td>\n",
       "      <td>10</td>\n",
       "      <td>10</td>\n",
       "      <td>10</td>\n",
       "      <td>99</td>\n",
       "    </tr>\n",
       "    <tr>\n",
       "      <th>worst smoothness</th>\n",
       "      <td>8</td>\n",
       "      <td>10</td>\n",
       "      <td>10</td>\n",
       "      <td>10</td>\n",
       "      <td>10</td>\n",
       "      <td>10</td>\n",
       "      <td>10</td>\n",
       "      <td>10</td>\n",
       "      <td>10</td>\n",
       "      <td>10</td>\n",
       "      <td>98</td>\n",
       "    </tr>\n",
       "    <tr>\n",
       "      <th>mean concavity</th>\n",
       "      <td>10</td>\n",
       "      <td>10</td>\n",
       "      <td>10</td>\n",
       "      <td>10</td>\n",
       "      <td>9</td>\n",
       "      <td>9</td>\n",
       "      <td>10</td>\n",
       "      <td>10</td>\n",
       "      <td>10</td>\n",
       "      <td>10</td>\n",
       "      <td>98</td>\n",
       "    </tr>\n",
       "    <tr>\n",
       "      <th>mean area</th>\n",
       "      <td>10</td>\n",
       "      <td>10</td>\n",
       "      <td>10</td>\n",
       "      <td>10</td>\n",
       "      <td>10</td>\n",
       "      <td>10</td>\n",
       "      <td>10</td>\n",
       "      <td>10</td>\n",
       "      <td>10</td>\n",
       "      <td>8</td>\n",
       "      <td>98</td>\n",
       "    </tr>\n",
       "    <tr>\n",
       "      <th>mean radius</th>\n",
       "      <td>10</td>\n",
       "      <td>10</td>\n",
       "      <td>10</td>\n",
       "      <td>10</td>\n",
       "      <td>10</td>\n",
       "      <td>10</td>\n",
       "      <td>10</td>\n",
       "      <td>10</td>\n",
       "      <td>9</td>\n",
       "      <td>7</td>\n",
       "      <td>96</td>\n",
       "    </tr>\n",
       "    <tr>\n",
       "      <th>mean perimeter</th>\n",
       "      <td>10</td>\n",
       "      <td>10</td>\n",
       "      <td>10</td>\n",
       "      <td>10</td>\n",
       "      <td>10</td>\n",
       "      <td>10</td>\n",
       "      <td>10</td>\n",
       "      <td>10</td>\n",
       "      <td>7</td>\n",
       "      <td>7</td>\n",
       "      <td>94</td>\n",
       "    </tr>\n",
       "    <tr>\n",
       "      <th>worst symmetry</th>\n",
       "      <td>1</td>\n",
       "      <td>7</td>\n",
       "      <td>10</td>\n",
       "      <td>10</td>\n",
       "      <td>10</td>\n",
       "      <td>10</td>\n",
       "      <td>10</td>\n",
       "      <td>10</td>\n",
       "      <td>10</td>\n",
       "      <td>10</td>\n",
       "      <td>88</td>\n",
       "    </tr>\n",
       "    <tr>\n",
       "      <th>mean texture</th>\n",
       "      <td>1</td>\n",
       "      <td>8</td>\n",
       "      <td>10</td>\n",
       "      <td>10</td>\n",
       "      <td>10</td>\n",
       "      <td>10</td>\n",
       "      <td>10</td>\n",
       "      <td>10</td>\n",
       "      <td>10</td>\n",
       "      <td>9</td>\n",
       "      <td>88</td>\n",
       "    </tr>\n",
       "    <tr>\n",
       "      <th>radius error</th>\n",
       "      <td>2</td>\n",
       "      <td>7</td>\n",
       "      <td>9</td>\n",
       "      <td>9</td>\n",
       "      <td>9</td>\n",
       "      <td>9</td>\n",
       "      <td>10</td>\n",
       "      <td>10</td>\n",
       "      <td>10</td>\n",
       "      <td>10</td>\n",
       "      <td>85</td>\n",
       "    </tr>\n",
       "    <tr>\n",
       "      <th>perimeter error</th>\n",
       "      <td>0</td>\n",
       "      <td>1</td>\n",
       "      <td>6</td>\n",
       "      <td>7</td>\n",
       "      <td>8</td>\n",
       "      <td>8</td>\n",
       "      <td>8</td>\n",
       "      <td>8</td>\n",
       "      <td>8</td>\n",
       "      <td>9</td>\n",
       "      <td>63</td>\n",
       "    </tr>\n",
       "    <tr>\n",
       "      <th>area error</th>\n",
       "      <td>0</td>\n",
       "      <td>0</td>\n",
       "      <td>1</td>\n",
       "      <td>3</td>\n",
       "      <td>9</td>\n",
       "      <td>9</td>\n",
       "      <td>10</td>\n",
       "      <td>10</td>\n",
       "      <td>10</td>\n",
       "      <td>10</td>\n",
       "      <td>62</td>\n",
       "    </tr>\n",
       "    <tr>\n",
       "      <th>fractal dimension error</th>\n",
       "      <td>0</td>\n",
       "      <td>0</td>\n",
       "      <td>0</td>\n",
       "      <td>3</td>\n",
       "      <td>6</td>\n",
       "      <td>9</td>\n",
       "      <td>10</td>\n",
       "      <td>10</td>\n",
       "      <td>10</td>\n",
       "      <td>10</td>\n",
       "      <td>58</td>\n",
       "    </tr>\n",
       "    <tr>\n",
       "      <th>compactness error</th>\n",
       "      <td>0</td>\n",
       "      <td>0</td>\n",
       "      <td>0</td>\n",
       "      <td>0</td>\n",
       "      <td>1</td>\n",
       "      <td>6</td>\n",
       "      <td>9</td>\n",
       "      <td>10</td>\n",
       "      <td>10</td>\n",
       "      <td>10</td>\n",
       "      <td>46</td>\n",
       "    </tr>\n",
       "    <tr>\n",
       "      <th>mean fractal dimension</th>\n",
       "      <td>0</td>\n",
       "      <td>0</td>\n",
       "      <td>0</td>\n",
       "      <td>0</td>\n",
       "      <td>1</td>\n",
       "      <td>7</td>\n",
       "      <td>8</td>\n",
       "      <td>8</td>\n",
       "      <td>8</td>\n",
       "      <td>9</td>\n",
       "      <td>41</td>\n",
       "    </tr>\n",
       "    <tr>\n",
       "      <th>worst compactness</th>\n",
       "      <td>7</td>\n",
       "      <td>7</td>\n",
       "      <td>6</td>\n",
       "      <td>1</td>\n",
       "      <td>0</td>\n",
       "      <td>1</td>\n",
       "      <td>0</td>\n",
       "      <td>0</td>\n",
       "      <td>0</td>\n",
       "      <td>2</td>\n",
       "      <td>24</td>\n",
       "    </tr>\n",
       "    <tr>\n",
       "      <th>mean smoothness</th>\n",
       "      <td>0</td>\n",
       "      <td>0</td>\n",
       "      <td>0</td>\n",
       "      <td>2</td>\n",
       "      <td>3</td>\n",
       "      <td>4</td>\n",
       "      <td>4</td>\n",
       "      <td>4</td>\n",
       "      <td>4</td>\n",
       "      <td>3</td>\n",
       "      <td>24</td>\n",
       "    </tr>\n",
       "    <tr>\n",
       "      <th>smoothness error</th>\n",
       "      <td>0</td>\n",
       "      <td>0</td>\n",
       "      <td>0</td>\n",
       "      <td>0</td>\n",
       "      <td>0</td>\n",
       "      <td>0</td>\n",
       "      <td>3</td>\n",
       "      <td>6</td>\n",
       "      <td>7</td>\n",
       "      <td>7</td>\n",
       "      <td>23</td>\n",
       "    </tr>\n",
       "    <tr>\n",
       "      <th>symmetry error</th>\n",
       "      <td>0</td>\n",
       "      <td>0</td>\n",
       "      <td>0</td>\n",
       "      <td>0</td>\n",
       "      <td>1</td>\n",
       "      <td>4</td>\n",
       "      <td>4</td>\n",
       "      <td>5</td>\n",
       "      <td>4</td>\n",
       "      <td>4</td>\n",
       "      <td>22</td>\n",
       "    </tr>\n",
       "    <tr>\n",
       "      <th>texture error</th>\n",
       "      <td>0</td>\n",
       "      <td>0</td>\n",
       "      <td>0</td>\n",
       "      <td>0</td>\n",
       "      <td>0</td>\n",
       "      <td>0</td>\n",
       "      <td>2</td>\n",
       "      <td>3</td>\n",
       "      <td>6</td>\n",
       "      <td>7</td>\n",
       "      <td>18</td>\n",
       "    </tr>\n",
       "    <tr>\n",
       "      <th>worst fractal dimension</th>\n",
       "      <td>0</td>\n",
       "      <td>0</td>\n",
       "      <td>0</td>\n",
       "      <td>0</td>\n",
       "      <td>0</td>\n",
       "      <td>1</td>\n",
       "      <td>1</td>\n",
       "      <td>1</td>\n",
       "      <td>4</td>\n",
       "      <td>8</td>\n",
       "      <td>15</td>\n",
       "    </tr>\n",
       "    <tr>\n",
       "      <th>concave points error</th>\n",
       "      <td>0</td>\n",
       "      <td>0</td>\n",
       "      <td>0</td>\n",
       "      <td>0</td>\n",
       "      <td>0</td>\n",
       "      <td>0</td>\n",
       "      <td>0</td>\n",
       "      <td>2</td>\n",
       "      <td>4</td>\n",
       "      <td>7</td>\n",
       "      <td>13</td>\n",
       "    </tr>\n",
       "    <tr>\n",
       "      <th>mean compactness</th>\n",
       "      <td>0</td>\n",
       "      <td>0</td>\n",
       "      <td>0</td>\n",
       "      <td>0</td>\n",
       "      <td>0</td>\n",
       "      <td>0</td>\n",
       "      <td>0</td>\n",
       "      <td>2</td>\n",
       "      <td>3</td>\n",
       "      <td>8</td>\n",
       "      <td>13</td>\n",
       "    </tr>\n",
       "    <tr>\n",
       "      <th>mean symmetry</th>\n",
       "      <td>0</td>\n",
       "      <td>0</td>\n",
       "      <td>0</td>\n",
       "      <td>0</td>\n",
       "      <td>0</td>\n",
       "      <td>0</td>\n",
       "      <td>0</td>\n",
       "      <td>1</td>\n",
       "      <td>5</td>\n",
       "      <td>6</td>\n",
       "      <td>12</td>\n",
       "    </tr>\n",
       "    <tr>\n",
       "      <th>concavity error</th>\n",
       "      <td>0</td>\n",
       "      <td>0</td>\n",
       "      <td>0</td>\n",
       "      <td>0</td>\n",
       "      <td>0</td>\n",
       "      <td>0</td>\n",
       "      <td>0</td>\n",
       "      <td>0</td>\n",
       "      <td>1</td>\n",
       "      <td>2</td>\n",
       "      <td>3</td>\n",
       "    </tr>\n",
       "  </tbody>\n",
       "</table>\n",
       "</div>"
      ],
      "text/plain": [
       "                         lambda_0  lambda_2  lambda_3  lambda_4  lambda_5  \\\n",
       "worst radius                   10        10        10        10        10   \n",
       "mean concave points            10        10        10        10        10   \n",
       "worst perimeter                10        10        10        10        10   \n",
       "worst area                     10        10        10        10        10   \n",
       "worst concave points           10        10        10        10        10   \n",
       "worst concavity                10        10        10        10        10   \n",
       "worst texture                   9        10        10        10        10   \n",
       "worst smoothness                8        10        10        10        10   \n",
       "mean concavity                 10        10        10        10         9   \n",
       "mean area                      10        10        10        10        10   \n",
       "mean radius                    10        10        10        10        10   \n",
       "mean perimeter                 10        10        10        10        10   \n",
       "worst symmetry                  1         7        10        10        10   \n",
       "mean texture                    1         8        10        10        10   \n",
       "radius error                    2         7         9         9         9   \n",
       "perimeter error                 0         1         6         7         8   \n",
       "area error                      0         0         1         3         9   \n",
       "fractal dimension error         0         0         0         3         6   \n",
       "compactness error               0         0         0         0         1   \n",
       "mean fractal dimension          0         0         0         0         1   \n",
       "worst compactness               7         7         6         1         0   \n",
       "mean smoothness                 0         0         0         2         3   \n",
       "smoothness error                0         0         0         0         0   \n",
       "symmetry error                  0         0         0         0         1   \n",
       "texture error                   0         0         0         0         0   \n",
       "worst fractal dimension         0         0         0         0         0   \n",
       "concave points error            0         0         0         0         0   \n",
       "mean compactness                0         0         0         0         0   \n",
       "mean symmetry                   0         0         0         0         0   \n",
       "concavity error                 0         0         0         0         0   \n",
       "\n",
       "                         lambda_6  lambda_7  lambda_8  lambda_9  lambda_10  \\\n",
       "worst radius                   10        10        10        10         10   \n",
       "mean concave points            10        10        10        10         10   \n",
       "worst perimeter                10        10        10        10         10   \n",
       "worst area                     10        10        10        10         10   \n",
       "worst concave points           10        10        10        10         10   \n",
       "worst concavity                10        10        10        10         10   \n",
       "worst texture                  10        10        10        10         10   \n",
       "worst smoothness               10        10        10        10         10   \n",
       "mean concavity                  9        10        10        10         10   \n",
       "mean area                      10        10        10        10          8   \n",
       "mean radius                    10        10        10         9          7   \n",
       "mean perimeter                 10        10        10         7          7   \n",
       "worst symmetry                 10        10        10        10         10   \n",
       "mean texture                   10        10        10        10          9   \n",
       "radius error                    9        10        10        10         10   \n",
       "perimeter error                 8         8         8         8          9   \n",
       "area error                      9        10        10        10         10   \n",
       "fractal dimension error         9        10        10        10         10   \n",
       "compactness error               6         9        10        10         10   \n",
       "mean fractal dimension          7         8         8         8          9   \n",
       "worst compactness               1         0         0         0          2   \n",
       "mean smoothness                 4         4         4         4          3   \n",
       "smoothness error                0         3         6         7          7   \n",
       "symmetry error                  4         4         5         4          4   \n",
       "texture error                   0         2         3         6          7   \n",
       "worst fractal dimension         1         1         1         4          8   \n",
       "concave points error            0         0         2         4          7   \n",
       "mean compactness                0         0         2         3          8   \n",
       "mean symmetry                   0         0         1         5          6   \n",
       "concavity error                 0         0         0         1          2   \n",
       "\n",
       "                         total  \n",
       "worst radius               100  \n",
       "mean concave points        100  \n",
       "worst perimeter            100  \n",
       "worst area                 100  \n",
       "worst concave points       100  \n",
       "worst concavity            100  \n",
       "worst texture               99  \n",
       "worst smoothness            98  \n",
       "mean concavity              98  \n",
       "mean area                   98  \n",
       "mean radius                 96  \n",
       "mean perimeter              94  \n",
       "worst symmetry              88  \n",
       "mean texture                88  \n",
       "radius error                85  \n",
       "perimeter error             63  \n",
       "area error                  62  \n",
       "fractal dimension error     58  \n",
       "compactness error           46  \n",
       "mean fractal dimension      41  \n",
       "worst compactness           24  \n",
       "mean smoothness             24  \n",
       "smoothness error            23  \n",
       "symmetry error              22  \n",
       "texture error               18  \n",
       "worst fractal dimension     15  \n",
       "concave points error        13  \n",
       "mean compactness            13  \n",
       "mean symmetry               12  \n",
       "concavity error              3  "
      ]
     },
     "execution_count": 121,
     "metadata": {},
     "output_type": "execute_result"
    }
   ],
   "source": [
    "count_per_feature"
   ]
  },
  {
   "cell_type": "code",
   "execution_count": 122,
   "metadata": {},
   "outputs": [
    {
     "data": {
      "text/plain": [
       "9"
      ]
     },
     "execution_count": 122,
     "metadata": {},
     "output_type": "execute_result"
    }
   ],
   "source": [
    "# Set the threshold - percentage of M\n",
    "threshold = int(0.9*M)\n",
    "threshold"
   ]
  },
  {
   "cell_type": "code",
   "execution_count": 123,
   "metadata": {},
   "outputs": [],
   "source": [
    "final_feature_set = []\n",
    "for i in range(count_per_feature.shape[0]):\n",
    "    if (count_per_feature.iloc[i,:count_per_feature.shape[1]-1] >= threshold).any() == True:\n",
    "        final_feature_set.append(count_per_feature.index[i])"
   ]
  },
  {
   "cell_type": "code",
   "execution_count": 124,
   "metadata": {},
   "outputs": [
    {
     "name": "stdout",
     "output_type": "stream",
     "text": [
      "There are 20 features in the final feature set, based on a threshold of 9:\n",
      "\n",
      "worst radius\n",
      "mean concave points\n",
      "worst perimeter\n",
      "worst area\n",
      "worst concave points\n",
      "worst concavity\n",
      "worst texture\n",
      "worst smoothness\n",
      "mean concavity\n",
      "mean area\n",
      "mean radius\n",
      "mean perimeter\n",
      "worst symmetry\n",
      "mean texture\n",
      "radius error\n",
      "perimeter error\n",
      "area error\n",
      "fractal dimension error\n",
      "compactness error\n",
      "mean fractal dimension\n"
     ]
    }
   ],
   "source": [
    "#final_feature_set = list(count_per_feature.index[np.where(count_per_feature['total'] >= threshold)[0]])\n",
    "print(f\"There are {len(final_feature_set)} features in the final feature set, based on a threshold of {threshold}:\\n\")\n",
    "print(*final_feature_set, sep='\\n')"
   ]
  },
  {
   "attachments": {},
   "cell_type": "markdown",
   "metadata": {},
   "source": [
    "TODO - address overfitting!"
   ]
  },
  {
   "cell_type": "markdown",
   "metadata": {},
   "source": [
    "## Other approaches to stability analysis \n",
    "Clustering and PCA?"
   ]
  },
  {
   "cell_type": "markdown",
   "metadata": {},
   "source": []
  }
 ],
 "metadata": {
  "kernelspec": {
   "display_name": "dimred-course",
   "language": "python",
   "name": "python3"
  },
  "language_info": {
   "codemirror_mode": {
    "name": "ipython",
    "version": 3
   },
   "file_extension": ".py",
   "mimetype": "text/x-python",
   "name": "python",
   "nbconvert_exporter": "python",
   "pygments_lexer": "ipython3",
   "version": "3.10.11"
  },
  "orig_nbformat": 4
 },
 "nbformat": 4,
 "nbformat_minor": 2
}
