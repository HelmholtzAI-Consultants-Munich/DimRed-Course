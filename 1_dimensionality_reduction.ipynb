{
 "cells": [
  {
   "attachments": {},
   "cell_type": "markdown",
   "metadata": {},
   "source": [
    "# Dimensionality reduction"
   ]
  },
  {
   "attachments": {},
   "cell_type": "markdown",
   "metadata": {},
   "source": [
    "The first part of this introduction to dimensionality reduction focuses on feature **transformation**. We will show how to apply the following approaches:\n",
    "1. PCA / MDS / UMAP / t-SNE ?  \n",
    "2. Autoencoders"
   ]
  },
  {
   "cell_type": "code",
   "execution_count": 2,
   "metadata": {},
   "outputs": [],
   "source": [
    "import pandas as pd\n",
    "import numpy as np\n",
    "import matplotlib.pyplot as plt\n",
    "from sklearn.decomposition import PCA"
   ]
  },
  {
   "attachments": {},
   "cell_type": "markdown",
   "metadata": {},
   "source": [
    "## Load the data"
   ]
  },
  {
   "cell_type": "code",
   "execution_count": 3,
   "metadata": {},
   "outputs": [
    {
     "data": {
      "text/html": [
       "<div>\n",
       "<style scoped>\n",
       "    .dataframe tbody tr th:only-of-type {\n",
       "        vertical-align: middle;\n",
       "    }\n",
       "\n",
       "    .dataframe tbody tr th {\n",
       "        vertical-align: top;\n",
       "    }\n",
       "\n",
       "    .dataframe thead th {\n",
       "        text-align: right;\n",
       "    }\n",
       "</style>\n",
       "<table border=\"1\" class=\"dataframe\">\n",
       "  <thead>\n",
       "    <tr style=\"text-align: right;\">\n",
       "      <th></th>\n",
       "      <th>Solyc02g081130.1.1</th>\n",
       "      <th>Solyc12g038200.1.1</th>\n",
       "      <th>Solyc00g097760.1.1</th>\n",
       "      <th>Solyc08g069180.2.1</th>\n",
       "      <th>Solyc01g012570.1.1</th>\n",
       "      <th>Solyc08g076670.2.1</th>\n",
       "      <th>Solyc04g024840.2.1</th>\n",
       "      <th>Solyc09g074310.2.1</th>\n",
       "      <th>Solyc09g005370.1.1</th>\n",
       "      <th>Solyc12g098180.1.1</th>\n",
       "      <th>...</th>\n",
       "      <th>Solyc01g088670.1.1</th>\n",
       "      <th>Solyc06g063380.1.1</th>\n",
       "      <th>Solyc10g050450.1.1</th>\n",
       "      <th>Solyc07g051990.1.1</th>\n",
       "      <th>Solyc02g093490.2.1</th>\n",
       "      <th>Solyc10g007270.2.1</th>\n",
       "      <th>species</th>\n",
       "      <th>position</th>\n",
       "      <th>tissue</th>\n",
       "      <th>root</th>\n",
       "    </tr>\n",
       "  </thead>\n",
       "  <tbody>\n",
       "    <tr>\n",
       "      <th>penn.Sh.floral</th>\n",
       "      <td>1.169216</td>\n",
       "      <td>0.000000</td>\n",
       "      <td>0.0</td>\n",
       "      <td>1.305753</td>\n",
       "      <td>0.0</td>\n",
       "      <td>4.634343</td>\n",
       "      <td>2.860965</td>\n",
       "      <td>3.242561</td>\n",
       "      <td>0.0</td>\n",
       "      <td>0.0</td>\n",
       "      <td>...</td>\n",
       "      <td>2.120579</td>\n",
       "      <td>0.0</td>\n",
       "      <td>0.000000</td>\n",
       "      <td>0.0</td>\n",
       "      <td>5.027894</td>\n",
       "      <td>0.0</td>\n",
       "      <td>penn</td>\n",
       "      <td>Sh</td>\n",
       "      <td>floral</td>\n",
       "      <td>0</td>\n",
       "    </tr>\n",
       "    <tr>\n",
       "      <th>penn.Sh.leaf</th>\n",
       "      <td>0.000000</td>\n",
       "      <td>0.858644</td>\n",
       "      <td>0.0</td>\n",
       "      <td>2.948383</td>\n",
       "      <td>0.0</td>\n",
       "      <td>4.653912</td>\n",
       "      <td>2.241161</td>\n",
       "      <td>2.922573</td>\n",
       "      <td>0.0</td>\n",
       "      <td>0.0</td>\n",
       "      <td>...</td>\n",
       "      <td>1.370140</td>\n",
       "      <td>0.0</td>\n",
       "      <td>2.006256</td>\n",
       "      <td>0.0</td>\n",
       "      <td>5.068390</td>\n",
       "      <td>0.0</td>\n",
       "      <td>penn</td>\n",
       "      <td>Sh</td>\n",
       "      <td>leaf</td>\n",
       "      <td>0</td>\n",
       "    </tr>\n",
       "    <tr>\n",
       "      <th>penn.Sh.root</th>\n",
       "      <td>0.000000</td>\n",
       "      <td>0.000000</td>\n",
       "      <td>0.0</td>\n",
       "      <td>0.469958</td>\n",
       "      <td>0.0</td>\n",
       "      <td>5.798938</td>\n",
       "      <td>3.217704</td>\n",
       "      <td>2.229663</td>\n",
       "      <td>0.0</td>\n",
       "      <td>0.0</td>\n",
       "      <td>...</td>\n",
       "      <td>1.970763</td>\n",
       "      <td>0.0</td>\n",
       "      <td>1.688588</td>\n",
       "      <td>0.0</td>\n",
       "      <td>4.889667</td>\n",
       "      <td>0.0</td>\n",
       "      <td>penn</td>\n",
       "      <td>Sh</td>\n",
       "      <td>root</td>\n",
       "      <td>1</td>\n",
       "    </tr>\n",
       "    <tr>\n",
       "      <th>penn.Sh.sdling</th>\n",
       "      <td>1.813992</td>\n",
       "      <td>0.000000</td>\n",
       "      <td>0.0</td>\n",
       "      <td>2.586147</td>\n",
       "      <td>0.0</td>\n",
       "      <td>4.771861</td>\n",
       "      <td>3.099842</td>\n",
       "      <td>3.452604</td>\n",
       "      <td>0.0</td>\n",
       "      <td>0.0</td>\n",
       "      <td>...</td>\n",
       "      <td>1.982446</td>\n",
       "      <td>0.0</td>\n",
       "      <td>1.651062</td>\n",
       "      <td>0.0</td>\n",
       "      <td>3.105620</td>\n",
       "      <td>0.0</td>\n",
       "      <td>penn</td>\n",
       "      <td>Sh</td>\n",
       "      <td>sdling</td>\n",
       "      <td>0</td>\n",
       "    </tr>\n",
       "    <tr>\n",
       "      <th>penn.Sh.stem</th>\n",
       "      <td>0.000000</td>\n",
       "      <td>0.000000</td>\n",
       "      <td>0.0</td>\n",
       "      <td>1.540887</td>\n",
       "      <td>0.0</td>\n",
       "      <td>4.907770</td>\n",
       "      <td>4.800873</td>\n",
       "      <td>1.973890</td>\n",
       "      <td>0.0</td>\n",
       "      <td>0.0</td>\n",
       "      <td>...</td>\n",
       "      <td>1.452937</td>\n",
       "      <td>0.0</td>\n",
       "      <td>0.000000</td>\n",
       "      <td>0.0</td>\n",
       "      <td>4.993720</td>\n",
       "      <td>0.0</td>\n",
       "      <td>penn</td>\n",
       "      <td>Sh</td>\n",
       "      <td>stem</td>\n",
       "      <td>0</td>\n",
       "    </tr>\n",
       "  </tbody>\n",
       "</table>\n",
       "<p>5 rows × 28302 columns</p>\n",
       "</div>"
      ],
      "text/plain": [
       "                Solyc02g081130.1.1  Solyc12g038200.1.1  Solyc00g097760.1.1  \\\n",
       "penn.Sh.floral            1.169216            0.000000                 0.0   \n",
       "penn.Sh.leaf              0.000000            0.858644                 0.0   \n",
       "penn.Sh.root              0.000000            0.000000                 0.0   \n",
       "penn.Sh.sdling            1.813992            0.000000                 0.0   \n",
       "penn.Sh.stem              0.000000            0.000000                 0.0   \n",
       "\n",
       "                Solyc08g069180.2.1  Solyc01g012570.1.1  Solyc08g076670.2.1  \\\n",
       "penn.Sh.floral            1.305753                 0.0            4.634343   \n",
       "penn.Sh.leaf              2.948383                 0.0            4.653912   \n",
       "penn.Sh.root              0.469958                 0.0            5.798938   \n",
       "penn.Sh.sdling            2.586147                 0.0            4.771861   \n",
       "penn.Sh.stem              1.540887                 0.0            4.907770   \n",
       "\n",
       "                Solyc04g024840.2.1  Solyc09g074310.2.1  Solyc09g005370.1.1  \\\n",
       "penn.Sh.floral            2.860965            3.242561                 0.0   \n",
       "penn.Sh.leaf              2.241161            2.922573                 0.0   \n",
       "penn.Sh.root              3.217704            2.229663                 0.0   \n",
       "penn.Sh.sdling            3.099842            3.452604                 0.0   \n",
       "penn.Sh.stem              4.800873            1.973890                 0.0   \n",
       "\n",
       "                Solyc12g098180.1.1  ...  Solyc01g088670.1.1  \\\n",
       "penn.Sh.floral                 0.0  ...            2.120579   \n",
       "penn.Sh.leaf                   0.0  ...            1.370140   \n",
       "penn.Sh.root                   0.0  ...            1.970763   \n",
       "penn.Sh.sdling                 0.0  ...            1.982446   \n",
       "penn.Sh.stem                   0.0  ...            1.452937   \n",
       "\n",
       "                Solyc06g063380.1.1  Solyc10g050450.1.1  Solyc07g051990.1.1  \\\n",
       "penn.Sh.floral                 0.0            0.000000                 0.0   \n",
       "penn.Sh.leaf                   0.0            2.006256                 0.0   \n",
       "penn.Sh.root                   0.0            1.688588                 0.0   \n",
       "penn.Sh.sdling                 0.0            1.651062                 0.0   \n",
       "penn.Sh.stem                   0.0            0.000000                 0.0   \n",
       "\n",
       "                Solyc02g093490.2.1  Solyc10g007270.2.1  species  position  \\\n",
       "penn.Sh.floral            5.027894                 0.0     penn        Sh   \n",
       "penn.Sh.leaf              5.068390                 0.0     penn        Sh   \n",
       "penn.Sh.root              4.889667                 0.0     penn        Sh   \n",
       "penn.Sh.sdling            3.105620                 0.0     penn        Sh   \n",
       "penn.Sh.stem              4.993720                 0.0     penn        Sh   \n",
       "\n",
       "                tissue  root  \n",
       "penn.Sh.floral  floral     0  \n",
       "penn.Sh.leaf      leaf     0  \n",
       "penn.Sh.root      root     1  \n",
       "penn.Sh.sdling  sdling     0  \n",
       "penn.Sh.stem      stem     0  \n",
       "\n",
       "[5 rows x 28302 columns]"
      ]
     },
     "execution_count": 3,
     "metadata": {},
     "output_type": "execute_result"
    }
   ],
   "source": [
    "data_with_labels = pd.read_csv(\"./data/tomatos_with_targets.txt\", index_col=0)\n",
    "data_with_labels.head()"
   ]
  },
  {
   "attachments": {},
   "cell_type": "markdown",
   "metadata": {},
   "source": [
    "## PCA"
   ]
  },
  {
   "cell_type": "code",
   "execution_count": 4,
   "metadata": {},
   "outputs": [],
   "source": [
    "labels = ['species','position','tissue','root']\n",
    "data = data_with_labels.drop(columns = labels, axis = 1)\n",
    "pc = PCA(n_components=10)\n",
    "data_transformed = pc.fit_transform(data)"
   ]
  },
  {
   "attachments": {},
   "cell_type": "markdown",
   "metadata": {},
   "source": [
    "First, we visualize the data based on the first two principal components. This will show us the main sources of variation. Since we do not have any prior knowledge, we use all the label information that is available to us to mark the samples (here, the color indicates the tissue, and the shape indicates the combination of species and growing condition). What is the main source of variation in this data set? Side remark: If we have more label combinations than can be distinguished in one plot, we can produce multiple plots, e.g. one for each labeling type (tissue, species, condition)."
   ]
  },
  {
   "cell_type": "code",
   "execution_count": 8,
   "metadata": {},
   "outputs": [
    {
     "name": "stdout",
     "output_type": "stream",
     "text": [
      "penn\n"
     ]
    },
    {
     "data": {
      "image/png": "[encoded data removed]",
      "text/plain": [
       "<Figure size 700x700 with 1 Axes>"
      ]
     },
     "metadata": {},
     "output_type": "display_data"
    }
   ],
   "source": [
    "tissue_dict = {'floral': 'gold', 'leaf': 'chartreuse', 'root': 'gray', 'sdling': 'olivedrab', 'stem': 'darkgreen', 'veg': 'purple'}\n",
    "species_condition_dict = {'penn.Sun': 's', 'penn.Sh': 'd', 'M82.Sun': '^', 'M82.Sh': 'v'}\n",
    "plt.figure(figsize=(7, 7))\n",
    "for i in range(0,len(data.index)):\n",
    "    plt.scatter(data_transformed[i,1], data_transformed[i,2], marker=species_condition_dict['.'.join([data_with_labels.iloc[i]['species'], data_with_labels.iloc[i]['position']])], c=tissue_dict[data_with_labels.iloc[i]['tissue']])\n",
    "plt.show()"
   ]
  },
  {
   "attachments": {},
   "cell_type": "markdown",
   "metadata": {},
   "source": [
    "The plot reveals that the tissue type is the main source of variation in the data. Samples of the same tissue type are clustered together.\n",
    "- Different than R results, need to compare Helena's and my preprocessing\n",
    "\n",
    "- Look at PC1-PC3, PC2-PC3 plots and top-weight genes (separating roles of PC2 (floral tissue) and PC3 (species), top genes of PC3 known function in drought tolerance), maybe also PC4 to show that it is not a condition separation\n",
    "- How many components to look at: Percent of variance, screeplot\n",
    "- UMAP\n",
    "- MDS\n",
    "- Autoencoders (scArches, plain VAE or rna-seq-vae)\n",
    "- Precision-recall tradeoff of dim reduction\n",
    "- Discussion advantages/disadvantages of methods, when to use which one"
   ]
  }
 ],
 "metadata": {
  "kernelspec": {
   "display_name": "dimred",
   "language": "python",
   "name": "python3"
  },
  "language_info": {
   "codemirror_mode": {
    "name": "ipython",
    "version": 3
   },
   "file_extension": ".py",
   "mimetype": "text/x-python",
   "name": "python",
   "nbconvert_exporter": "python",
   "pygments_lexer": "ipython3",
   "version": "3.10.11"
  },
  "orig_nbformat": 4
 },
 "nbformat": 4,
 "nbformat_minor": 2
}
