{
 "cells": [
  {
   "attachments": {},
   "cell_type": "markdown",
   "metadata": {},
   "source": [
    "# Autoencoders "
   ]
  },
  {
   "cell_type": "markdown",
   "metadata": {},
   "source": [
    "Autoencoders are neural networks that learn low-dimensional latent representations from which the original data can be reconstructed as well as possible."
   ]
  },
  {
   "cell_type": "code",
   "execution_count": 1,
   "metadata": {},
   "outputs": [],
   "source": [
    "import pandas as pd\n",
    "import numpy as np\n",
    "import matplotlib.pyplot as plt\n",
    "from sklearn.preprocessing import StandardScaler\n",
    "\n",
    "data_with_labels = pd.read_csv(\"../data/tomato_with_targets.txt\", index_col=0)\n",
    "labels = ['species','position','tissue','root']\n",
    "data_original = data_with_labels.drop(columns = labels, axis = 1).to_numpy()\n",
    "# trainig_data_original = data_with_labels\n",
    "trainig_data_original = data_with_labels.drop(data_with_labels[(data_with_labels[\"species\"]==\"M82\") & (data_with_labels[\"position\"]==\"Sh\")].index)\n",
    "trainig_data_original = trainig_data_original.drop(columns = labels, axis = 1).to_numpy()\n",
    "scaler = StandardScaler().set_output(transform=\"default\")\n",
    "training_data = scaler.fit_transform(trainig_data_original)\n",
    "data = scaler.transform(data_original)"
   ]
  },
  {
   "cell_type": "code",
   "execution_count": 2,
   "metadata": {},
   "outputs": [],
   "source": [
    "import os\n",
    "os.environ[\"KERAS_BACKEND\"] = \"torch\""
   ]
  },
  {
   "cell_type": "code",
   "execution_count": 3,
   "metadata": {},
   "outputs": [],
   "source": [
    "from keras.layers import Input, Dense, Lambda\n",
    "from keras.models import Model\n",
    "import keras"
   ]
  },
  {
   "cell_type": "markdown",
   "metadata": {},
   "source": [
    "We will apply an autoencoder approach to reduce the dimensionality of the tomato gene expression dataset. For computational efficiency, we will use here only the first 500 genes, so the following call reduces 500-dimensional profiles to two-dimensional profiles."
   ]
  },
  {
   "cell_type": "code",
   "execution_count": 5,
   "metadata": {},
   "outputs": [],
   "source": [
    "# Building blocks\n",
    "def sampling(args, n_components):\n",
    "    z_mean, z_log_var = args\n",
    "    epsilon = keras.random.normal(shape=(n_components,), seed=42) # seed=seed_generator\n",
    "    return z_mean + keras.ops.exp(z_log_var) * epsilon\n",
    "\n",
    "def build_variational_encoder(inputs, layer_sizes, n_components):\n",
    "    x = inputs\n",
    "    for size in layer_sizes:\n",
    "        x = Dense(size, activation='relu', kernel_initializer='glorot_normal')(x)\n",
    "\n",
    "    z_mean = Dense(n_components, kernel_initializer='glorot_normal', name='latent_mean')(x)\n",
    "    z_log_var = Dense(n_components, kernel_initializer='glorot_normal', name='latent_sigma')(x)\n",
    "\n",
    "    z = Lambda(lambda args: sampling(args, n_components), output_shape=(n_components,))([z_mean, z_log_var])\n",
    "    encoder = Model(inputs, [z_mean, z_log_var, z], name='encoder')\n",
    "    return encoder\n",
    "\n",
    "def build_encoder(X, layer_sizes, n_components):\n",
    "    inputs = Input(shape=(X.shape[1],), name='encoder_input')\n",
    "    x = inputs\n",
    "    for size in layer_sizes:\n",
    "        x = Dense(size, activation='relu', kernel_initializer='glorot_normal')(x)\n",
    "    x = Dense(n_components, activation=None, kernel_initializer='glorot_normal', name='encoder_output')(x)\n",
    "    encoder = Model(inputs, x, name='encoder')\n",
    "    return encoder\n",
    "\n",
    "def build_decoder(X, layer_sizes, n_components):\n",
    "    latent_inputs = Input(shape=(n_components,), name='decoder_input_sampling')\n",
    "    x = latent_inputs\n",
    "    for size in layer_sizes[::-1]:\n",
    "        x = Dense(size, activation='relu', kernel_initializer='glorot_normal')(x)\n",
    "    outputs = Dense(X.shape[1], activation=None, kernel_initializer='glorot_normal', name='decoder_output')(x)\n",
    "    decoder = Model(latent_inputs, outputs, name='decoder')\n",
    "    return decoder"
   ]
  },
  {
   "cell_type": "code",
   "execution_count": 6,
   "metadata": {},
   "outputs": [
    {
     "data": {
      "text/html": [
       "<pre style=\"white-space:pre;overflow-x:auto;line-height:normal;font-family:Menlo,'DejaVu Sans Mono',consolas,'Courier New',monospace\"><span style=\"font-weight: bold\">Model: \"ae\"</span>\n",
       "</pre>\n"
      ],
      "text/plain": [
       "\u001b[1mModel: \"ae\"\u001b[0m\n"
      ]
     },
     "metadata": {},
     "output_type": "display_data"
    },
    {
     "data": {
      "text/html": [
       "<pre style=\"white-space:pre;overflow-x:auto;line-height:normal;font-family:Menlo,'DejaVu Sans Mono',consolas,'Courier New',monospace\">┏━━━━━━━━━━━━━━━━━━━━━━━━━━━━━━━━━┳━━━━━━━━━━━━━━━━━━━━━━━━┳━━━━━━━━━━━━━━━┓\n",
       "┃<span style=\"font-weight: bold\"> Layer (type)                    </span>┃<span style=\"font-weight: bold\"> Output Shape           </span>┃<span style=\"font-weight: bold\">       Param # </span>┃\n",
       "┡━━━━━━━━━━━━━━━━━━━━━━━━━━━━━━━━━╇━━━━━━━━━━━━━━━━━━━━━━━━╇━━━━━━━━━━━━━━━┩\n",
       "│ encoder_input (<span style=\"color: #0087ff; text-decoration-color: #0087ff\">InputLayer</span>)      │ (<span style=\"color: #00d7ff; text-decoration-color: #00d7ff\">None</span>, <span style=\"color: #00af00; text-decoration-color: #00af00\">500</span>)            │             <span style=\"color: #00af00; text-decoration-color: #00af00\">0</span> │\n",
       "├─────────────────────────────────┼────────────────────────┼───────────────┤\n",
       "│ encoder (<span style=\"color: #0087ff; text-decoration-color: #0087ff\">Functional</span>)            │ (<span style=\"color: #00d7ff; text-decoration-color: #00d7ff\">None</span>, <span style=\"color: #00af00; text-decoration-color: #00af00\">2</span>)              │        <span style=\"color: #00af00; text-decoration-color: #00af00\">75,026</span> │\n",
       "├─────────────────────────────────┼────────────────────────┼───────────────┤\n",
       "│ decoder (<span style=\"color: #0087ff; text-decoration-color: #0087ff\">Functional</span>)            │ (<span style=\"color: #00d7ff; text-decoration-color: #00d7ff\">None</span>, <span style=\"color: #00af00; text-decoration-color: #00af00\">500</span>)            │        <span style=\"color: #00af00; text-decoration-color: #00af00\">75,524</span> │\n",
       "└─────────────────────────────────┴────────────────────────┴───────────────┘\n",
       "</pre>\n"
      ],
      "text/plain": [
       "┏━━━━━━━━━━━━━━━━━━━━━━━━━━━━━━━━━┳━━━━━━━━━━━━━━━━━━━━━━━━┳━━━━━━━━━━━━━━━┓\n",
       "┃\u001b[1m \u001b[0m\u001b[1mLayer (type)                   \u001b[0m\u001b[1m \u001b[0m┃\u001b[1m \u001b[0m\u001b[1mOutput Shape          \u001b[0m\u001b[1m \u001b[0m┃\u001b[1m \u001b[0m\u001b[1m      Param #\u001b[0m\u001b[1m \u001b[0m┃\n",
       "┡━━━━━━━━━━━━━━━━━━━━━━━━━━━━━━━━━╇━━━━━━━━━━━━━━━━━━━━━━━━╇━━━━━━━━━━━━━━━┩\n",
       "│ encoder_input (\u001b[38;5;33mInputLayer\u001b[0m)      │ (\u001b[38;5;45mNone\u001b[0m, \u001b[38;5;34m500\u001b[0m)            │             \u001b[38;5;34m0\u001b[0m │\n",
       "├─────────────────────────────────┼────────────────────────┼───────────────┤\n",
       "│ encoder (\u001b[38;5;33mFunctional\u001b[0m)            │ (\u001b[38;5;45mNone\u001b[0m, \u001b[38;5;34m2\u001b[0m)              │        \u001b[38;5;34m75,026\u001b[0m │\n",
       "├─────────────────────────────────┼────────────────────────┼───────────────┤\n",
       "│ decoder (\u001b[38;5;33mFunctional\u001b[0m)            │ (\u001b[38;5;45mNone\u001b[0m, \u001b[38;5;34m500\u001b[0m)            │        \u001b[38;5;34m75,524\u001b[0m │\n",
       "└─────────────────────────────────┴────────────────────────┴───────────────┘\n"
      ]
     },
     "metadata": {},
     "output_type": "display_data"
    },
    {
     "data": {
      "text/html": [
       "<pre style=\"white-space:pre;overflow-x:auto;line-height:normal;font-family:Menlo,'DejaVu Sans Mono',consolas,'Courier New',monospace\"><span style=\"font-weight: bold\"> Total params: </span><span style=\"color: #00af00; text-decoration-color: #00af00\">150,550</span> (588.09 KB)\n",
       "</pre>\n"
      ],
      "text/plain": [
       "\u001b[1m Total params: \u001b[0m\u001b[38;5;34m150,550\u001b[0m (588.09 KB)\n"
      ]
     },
     "metadata": {},
     "output_type": "display_data"
    },
    {
     "data": {
      "text/html": [
       "<pre style=\"white-space:pre;overflow-x:auto;line-height:normal;font-family:Menlo,'DejaVu Sans Mono',consolas,'Courier New',monospace\"><span style=\"font-weight: bold\"> Trainable params: </span><span style=\"color: #00af00; text-decoration-color: #00af00\">150,550</span> (588.09 KB)\n",
       "</pre>\n"
      ],
      "text/plain": [
       "\u001b[1m Trainable params: \u001b[0m\u001b[38;5;34m150,550\u001b[0m (588.09 KB)\n"
      ]
     },
     "metadata": {},
     "output_type": "display_data"
    },
    {
     "data": {
      "text/html": [
       "<pre style=\"white-space:pre;overflow-x:auto;line-height:normal;font-family:Menlo,'DejaVu Sans Mono',consolas,'Courier New',monospace\"><span style=\"font-weight: bold\"> Non-trainable params: </span><span style=\"color: #00af00; text-decoration-color: #00af00\">0</span> (0.00 B)\n",
       "</pre>\n"
      ],
      "text/plain": [
       "\u001b[1m Non-trainable params: \u001b[0m\u001b[38;5;34m0\u001b[0m (0.00 B)\n"
      ]
     },
     "metadata": {},
     "output_type": "display_data"
    },
    {
     "name": "stdout",
     "output_type": "stream",
     "text": [
      "None\n",
      "Epoch 1/200\n",

     ]
    },
    {
     "data": {

      "text/plain": [
       "<Figure size 640x480 with 1 Axes>"
      ]
     },
     "metadata": {},
     "output_type": "display_data"
    }
   ],
   "source": [
    "# Simple autoencoder without regularization\n",
    "tissue_dict = {'floral': 'gold', 'leaf': 'chartreuse', 'root': 'gray', 'sdling': 'mediumseagreen', 'stem': 'darkgreen', 'veg': 'purple'}\n",
    "species_condition_dict = {'penn.Sun': 's', 'penn.Sh': 'd', 'M82.Sun': '^', 'M82.Sh': 'v'}\n",
    "\n",
    "def plot_components(data_transformed, j=0, k=1, tissuelegend=True, legendloc=\"upper right\"):\n",
    "    for i in range(0, data_transformed.shape[0]):\n",
    "        plt.scatter(data_transformed[i, j], data_transformed[i, k], marker=species_condition_dict['.'.join([data_with_labels.iloc[i]['species'], data_with_labels.iloc[i]['position']])], c=tissue_dict[data_with_labels.iloc[i]['tissue']])\n",
    "    plt.xlabel(\"Component {}\".format(j)) \n",
    "    plt.ylabel(\"Component {}\".format(k))\n",
    "    if tissuelegend:\n",
    "        plt.legend(tissue_dict, loc=legendloc)\n",
    "    else:\n",
    "        def make_markers(ind):\n",
    "            return plt.Line2D([], [], color='black', marker=list(species_condition_dict.values())[ind], linestyle='None')\n",
    "        plt.legend([make_markers(l) for l in range(0, len(species_condition_dict.values()))], species_condition_dict.keys(), loc=legendloc)\n",
    "    plt.show()\n",
    "\n",
    "\n",
    "def autoencoder(X, n_components=2): # X_train,  \n",
    "\n",
    "    layer_sizes = [128,64,32,16]\n",
    "    inputs = Input(shape=(X.shape[1],), name='encoder_input')\n",
    "\n",
    "    encoder = build_encoder(inputs, layer_sizes, n_components)\n",
    "    decoder = build_decoder(X, layer_sizes, n_components)\n",
    "    \n",
    "    ae = Model(inputs, decoder(encoder(inputs)), name='ae')\n",
    "    print(ae.summary())\n",
    "\n",
    "    ae.compile(optimizer=keras.optimizers.Adam(), loss=keras.losses.MeanSquaredError(), run_eagerly=False) \n",
    "    ae.fit(x=X,y=X, epochs=200, verbose=1, batch_size=24)\n",
    "    \n",
    "    Y_AE = encoder.predict(X)\n",
    "    return Y_AE\n",
    "    \n",
    "\n",
    "keras.utils.set_random_seed(42) \n",
    "Y_AE = autoencoder(data[:,range(500)])\n",
    "plot_components(Y_AE)\n"
   ]
  },
  {
   "cell_type": "markdown",
   "metadata": {},
   "source": [
    "Next, we will try a variational autoencoder. This is an autoencoder that uses regularization during training to ensure that the latent space has certain properties. For that purpose, the loss function is composed of a reconstruction term (for the final layer) and a regularization term (for the latent layer)."
   ]
  },
  {
   "cell_type": "code",
   "execution_count": 6,
   "metadata": {},
   "outputs": [],
   "source": [
    "# Variational autoencoder\n",
    "class VAE(Model):\n",
    "    def __init__(self, encoder, decoder, **kwargs):\n",
    "        super().__init__(**kwargs)\n",
    "        self.encoder = encoder\n",
    "        self.decoder = decoder\n",
    "        self.total_loss_tracker = keras.metrics.Mean(name=\"total_loss\")\n",
    "        self.reconstruction_loss_tracker = keras.metrics.Mean(name=\"reconstruction_loss\")\n",
    "\n",
    "    def train_step(self, x):\n",
    "        \n",
    "        self.zero_grad()\n",
    "        \n",
    "        z_mean, z_log_var, z = self.encoder(x)\n",
    "        x_decoded_mean = self.decoder(z)\n",
    "   \n",
    "        reconstruction_loss = keras.ops.mean(keras.ops.square(x-x_decoded_mean))\n",
    "        \n",
    "        kl_loss = - 0.5 * (1 + z_log_var - keras.ops.square(z_mean) - keras.ops.exp(z_log_var))\n",
    "        \n",
    "        kl_loss = keras.ops.mean(keras.ops.sum(kl_loss, axis=1))\n",
    "        \n",
    "        total_loss = reconstruction_loss\n",
    "        \n",
    "        total_loss.backward()\n",
    "\n",
    "        trainable_weights = [v for v in self.trainable_weights]\n",
    "        gradients = [v.value.grad for v in trainable_weights]\n",
    "        self.optimizer.apply(gradients, trainable_weights)\n",
    "        self.total_loss_tracker.update_state(total_loss)\n",
    "        self.reconstruction_loss_tracker.update_state(reconstruction_loss)\n",
    "        return {\n",
    "            \"loss\": self.total_loss_tracker.result(),\n",
    "            \"reconstruction_loss\": self.reconstruction_loss_tracker.result()\n",
    "        }\n",
    "    \n",
    "    def call(self, inputs, *args, **kwargs):\n",
    "        return self.decoder(self.encoder(inputs)[2])\n",
    "    \n",
    "    @property\n",
    "    def metrics(self):\n",
    "        return [self.total_loss_tracker, self.reconstruction_loss_tracker]\n",
    "\n",
    "def variational_autoencoder(X, X_train, n_components=2):  \n",
    "    keras.utils.set_random_seed(42) \n",
    "    seed_generator = keras.random.SeedGenerator(42)\n",
    "        \n",
    "    def sampling(args):\n",
    "        z_mean, z_log_var = args\n",
    "        epsilon = keras.random.normal(shape=z_mean.size(), seed=seed_generator)\n",
    "        return z_mean + keras.ops.exp(z_log_var) * epsilon\n",
    "\n",
    "    layer_sizes = [128,64,32,16]\n",
    "    \n",
    "    #encoder\n",
    "    inputs = Input(shape=(X.shape[1],), name='encoder_input')\n",
    "    encoder = build_variational_encoder(inputs, layer_sizes, n_components)  \n",
    "\n",
    "    #decoder\n",
    "    decoder = build_decoder(X, layer_sizes, n_components)\n",
    "        \n",
    "    vae = VAE(encoder, decoder)\n",
    "    vae.compile(optimizer=keras.optimizers.Adam())\n",
    "    vae.fit(x=X_train, epochs=200, verbose=1, batch_size=24)\n",
    "    \n",
    "    Y_VAE = encoder.predict(X)[0]\n",
    "    return Y_VAE\n",
    "    "
   ]
  },
  {
   "cell_type": "code",
   "execution_count": 7,
   "metadata": {},
   "outputs": [
    {
     "name": "stdout",
     "output_type": "stream",
     "text": [
      "Epoch 1/200\n",
     ]
    },
    {
     "data": {
      "image/png": "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",
      "text/plain": [
       "<Figure size 640x480 with 1 Axes>"
      ]
     },
     "metadata": {},
     "output_type": "display_data"
    }
   ],
   "source": [
    "\n",
    "keras.utils.set_random_seed(42)\n",
    "# variational_autoencoder(data[:,range(500)], training_data[:,range(500)], n_components=2) "
    "Y_VAE = variational_autoencoder(data[:,range(500)]) \n",
    "plot_components(Y_VAE)"
   ]
  },
  {
   "cell_type": "markdown",
   "metadata": {},
   "source": [
    "### Task:\n",
    "1. What is the rationale behind using regularization? What can happen without regularization?\n",
    "2. What is a potential drawback of regularization? What can happen if regularization is too strong? You can play with the weight of the regularization term."
   ]
  }
 ],
 "metadata": {
  "kernelspec": {
   "display_name": "dimred",
   "language": "python",
   "name": "python3"
  },
  "language_info": {
   "codemirror_mode": {
    "name": "ipython",
    "version": 3
   },
   "file_extension": ".py",
   "mimetype": "text/x-python",
   "name": "python",
   "nbconvert_exporter": "python",
   "pygments_lexer": "ipython3",
   "version": "3.10.14"
  },
  "orig_nbformat": 4
 },
 "nbformat": 4,
 "nbformat_minor": 2
}
